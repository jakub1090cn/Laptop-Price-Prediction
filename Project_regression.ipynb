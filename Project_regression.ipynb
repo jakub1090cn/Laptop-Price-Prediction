{
 "nbformat": 4,
 "nbformat_minor": 0,
 "metadata": {
  "colab": {
   "provenance": []
  },
  "kernelspec": {
   "name": "python3",
   "language": "python",
   "display_name": "Python 3 (ipykernel)"
  },
  "language_info": {
   "name": "python"
  }
 },
 "cells": [
  {
   "cell_type": "code",
   "execution_count": 21,
   "metadata": {
    "colab": {
     "base_uri": "https://localhost:8080/",
     "height": 414
    },
    "id": "uawwCNjEJ40K",
    "outputId": "74dd83ba-3114-4ae2-ff4d-55842dd9c984",
    "ExecuteTime": {
     "end_time": "2024-02-15T20:43:44.103055Z",
     "start_time": "2024-02-15T20:43:44.061194800Z"
    }
   },
   "outputs": [
    {
     "data": {
      "text/plain": "   laptop_ID Company      Product   TypeName  Inches  \\\n0          1   Apple  MacBook Pro  Ultrabook    13.3   \n1          2   Apple  Macbook Air  Ultrabook    13.3   \n2          3      HP       250 G6   Notebook    15.6   \n3          4   Apple  MacBook Pro  Ultrabook    15.4   \n4          5   Apple  MacBook Pro  Ultrabook    13.3   \n\n                     ScreenResolution                         Cpu   Ram  \\\n0  IPS Panel Retina Display 2560x1600        Intel Core i5 2.3GHz   8GB   \n1                            1440x900        Intel Core i5 1.8GHz   8GB   \n2                   Full HD 1920x1080  Intel Core i5 7200U 2.5GHz   8GB   \n3  IPS Panel Retina Display 2880x1800        Intel Core i7 2.7GHz  16GB   \n4  IPS Panel Retina Display 2560x1600        Intel Core i5 3.1GHz   8GB   \n\n                Memory                           Gpu  OpSys  Weight  \\\n0            128GB SSD  Intel Iris Plus Graphics 640  macOS  1.37kg   \n1  128GB Flash Storage        Intel HD Graphics 6000  macOS  1.34kg   \n2            256GB SSD         Intel HD Graphics 620  No OS  1.86kg   \n3            512GB SSD            AMD Radeon Pro 455  macOS  1.83kg   \n4            256GB SSD  Intel Iris Plus Graphics 650  macOS  1.37kg   \n\n   Price_euros  \n0      1339.69  \n1       898.94  \n2       575.00  \n3      2537.45  \n4      1803.60  ",
      "text/html": "<div>\n<style scoped>\n    .dataframe tbody tr th:only-of-type {\n        vertical-align: middle;\n    }\n\n    .dataframe tbody tr th {\n        vertical-align: top;\n    }\n\n    .dataframe thead th {\n        text-align: right;\n    }\n</style>\n<table border=\"1\" class=\"dataframe\">\n  <thead>\n    <tr style=\"text-align: right;\">\n      <th></th>\n      <th>laptop_ID</th>\n      <th>Company</th>\n      <th>Product</th>\n      <th>TypeName</th>\n      <th>Inches</th>\n      <th>ScreenResolution</th>\n      <th>Cpu</th>\n      <th>Ram</th>\n      <th>Memory</th>\n      <th>Gpu</th>\n      <th>OpSys</th>\n      <th>Weight</th>\n      <th>Price_euros</th>\n    </tr>\n  </thead>\n  <tbody>\n    <tr>\n      <th>0</th>\n      <td>1</td>\n      <td>Apple</td>\n      <td>MacBook Pro</td>\n      <td>Ultrabook</td>\n      <td>13.3</td>\n      <td>IPS Panel Retina Display 2560x1600</td>\n      <td>Intel Core i5 2.3GHz</td>\n      <td>8GB</td>\n      <td>128GB SSD</td>\n      <td>Intel Iris Plus Graphics 640</td>\n      <td>macOS</td>\n      <td>1.37kg</td>\n      <td>1339.69</td>\n    </tr>\n    <tr>\n      <th>1</th>\n      <td>2</td>\n      <td>Apple</td>\n      <td>Macbook Air</td>\n      <td>Ultrabook</td>\n      <td>13.3</td>\n      <td>1440x900</td>\n      <td>Intel Core i5 1.8GHz</td>\n      <td>8GB</td>\n      <td>128GB Flash Storage</td>\n      <td>Intel HD Graphics 6000</td>\n      <td>macOS</td>\n      <td>1.34kg</td>\n      <td>898.94</td>\n    </tr>\n    <tr>\n      <th>2</th>\n      <td>3</td>\n      <td>HP</td>\n      <td>250 G6</td>\n      <td>Notebook</td>\n      <td>15.6</td>\n      <td>Full HD 1920x1080</td>\n      <td>Intel Core i5 7200U 2.5GHz</td>\n      <td>8GB</td>\n      <td>256GB SSD</td>\n      <td>Intel HD Graphics 620</td>\n      <td>No OS</td>\n      <td>1.86kg</td>\n      <td>575.00</td>\n    </tr>\n    <tr>\n      <th>3</th>\n      <td>4</td>\n      <td>Apple</td>\n      <td>MacBook Pro</td>\n      <td>Ultrabook</td>\n      <td>15.4</td>\n      <td>IPS Panel Retina Display 2880x1800</td>\n      <td>Intel Core i7 2.7GHz</td>\n      <td>16GB</td>\n      <td>512GB SSD</td>\n      <td>AMD Radeon Pro 455</td>\n      <td>macOS</td>\n      <td>1.83kg</td>\n      <td>2537.45</td>\n    </tr>\n    <tr>\n      <th>4</th>\n      <td>5</td>\n      <td>Apple</td>\n      <td>MacBook Pro</td>\n      <td>Ultrabook</td>\n      <td>13.3</td>\n      <td>IPS Panel Retina Display 2560x1600</td>\n      <td>Intel Core i5 3.1GHz</td>\n      <td>8GB</td>\n      <td>256GB SSD</td>\n      <td>Intel Iris Plus Graphics 650</td>\n      <td>macOS</td>\n      <td>1.37kg</td>\n      <td>1803.60</td>\n    </tr>\n  </tbody>\n</table>\n</div>"
     },
     "execution_count": 21,
     "metadata": {},
     "output_type": "execute_result"
    }
   ],
   "source": [
    "import pandas as pd\n",
    "\n",
    "df = pd.read_csv('laptop_price.csv', encoding='latin-1')\n",
    "df.head()"
   ]
  },
  {
   "cell_type": "code",
   "source": [
    "brand_counts = df['Company'].value_counts()\n",
    "small_brands = brand_counts[brand_counts < 10].index\n",
    "df['Company'] = df['Company'].apply(lambda x: \"Others\" if x in small_brands else x)\n",
    "\n",
    "df['OpSys'] = df['OpSys'].replace({'Windows 10 S': 'Windows 10', 'Mac OS X': 'macOS'})\n",
    "df['OpSys'] = df['OpSys'].replace(['Chrome OS', 'Android'], 'OtherSys')\n",
    "df['Memory_Type'] = df['Memory'].str.extract(r'(SSD|HDD|Flash Storage)', expand=False)\n",
    "import re\n",
    "def convert_to_gb(value):\n",
    "    unit_map = {'TB': 1024, 'GB': 1}\n",
    "    match = re.search(r'(\\d+)(TB|GB)', value, re.IGNORECASE)\n",
    "    if match:\n",
    "        num, unit = match.groups()\n",
    "        return float(num) * unit_map[unit.upper()]\n",
    "    return None\n",
    "\n",
    "def trim_processor(value):\n",
    "    if value.startswith('Intel'):\n",
    "        return ' '.join(value.split(' ', 3)[:3])\n",
    "    else:\n",
    "        return ' '.join(value.split(' ', 2)[:2])\n",
    "df[['Processor', 'Clock']] = df['Cpu'].apply(lambda x: pd.Series(str(x).rsplit(' ', 1)))\n",
    "df['Processor'] = df['Processor'].apply(trim_processor)\n",
    "cpu_counts = df['Processor'].value_counts()\n",
    "rare_cpu = cpu_counts[cpu_counts < 10].index\n",
    "df['Processor'] = df['Processor'].apply(lambda x: \"Others\" if x in rare_cpu else x)\n",
    "df['Clock'] = df['Clock'].apply(lambda x: float(str(x).strip(\"GHz\")))\n",
    "\n",
    "df['Memory_size_GB'] = df['Memory'].apply(convert_to_gb)\n",
    "df['Ram'] = df[\"Ram\"].apply(lambda x: int(str(x).strip(\"GB\")))\n",
    "df['Weight'] = df[\"Weight\"].apply(lambda x: float(str(x).strip(\"kg\")))\n",
    "\n",
    "df['Gpu_Brand'] = df['Gpu'].str.split(n=1, expand=True)[0]\n",
    "\n",
    "df['Screen_Width'] = df['ScreenResolution'].str.rsplit(' ', n=1).str[-1].str.split('x').str[0].astype(int)\n",
    "df = df.drop(['laptop_ID', 'Product', 'ScreenResolution', 'Cpu', 'Memory', 'Gpu'], axis=1)\n",
    "df"
   ],
   "metadata": {
    "colab": {
     "base_uri": "https://localhost:8080/",
     "height": 542
    },
    "id": "1ZjDAKz7RYit",
    "outputId": "ac6fabae-522d-4e7c-c42e-d63a35e75230",
    "ExecuteTime": {
     "end_time": "2024-02-15T20:43:45.961563300Z",
     "start_time": "2024-02-15T20:43:45.737218800Z"
    }
   },
   "execution_count": 22,
   "outputs": [
    {
     "data": {
      "text/plain": "     Company            TypeName  Inches  Ram       OpSys  Weight  \\\n0      Apple           Ultrabook    13.3    8       macOS    1.37   \n1      Apple           Ultrabook    13.3    8       macOS    1.34   \n2         HP            Notebook    15.6    8       No OS    1.86   \n3      Apple           Ultrabook    15.4   16       macOS    1.83   \n4      Apple           Ultrabook    13.3    8       macOS    1.37   \n...      ...                 ...     ...  ...         ...     ...   \n1298  Lenovo  2 in 1 Convertible    14.0    4  Windows 10    1.80   \n1299  Lenovo  2 in 1 Convertible    13.3   16  Windows 10    1.30   \n1300  Lenovo            Notebook    14.0    2  Windows 10    1.50   \n1301      HP            Notebook    15.6    6  Windows 10    2.19   \n1302    Asus            Notebook    15.6    4  Windows 10    2.20   \n\n      Price_euros    Memory_Type           Processor  Clock  Memory_size_GB  \\\n0         1339.69            SSD       Intel Core i5    2.3           128.0   \n1          898.94  Flash Storage       Intel Core i5    1.8           128.0   \n2          575.00            SSD       Intel Core i5    2.5           256.0   \n3         2537.45            SSD       Intel Core i7    2.7           512.0   \n4         1803.60            SSD       Intel Core i5    3.1           256.0   \n...           ...            ...                 ...    ...             ...   \n1298       638.00            SSD       Intel Core i7    2.5           128.0   \n1299      1499.00            SSD       Intel Core i7    2.5           512.0   \n1300       229.00  Flash Storage  Intel Celeron Dual    1.6            64.0   \n1301       764.00            HDD       Intel Core i7    2.5          1024.0   \n1302       369.00            HDD  Intel Celeron Dual    1.6           500.0   \n\n     Gpu_Brand  Screen_Width  \n0        Intel          2560  \n1        Intel          1440  \n2        Intel          1920  \n3          AMD          2880  \n4        Intel          2560  \n...        ...           ...  \n1298     Intel          1920  \n1299     Intel          3200  \n1300     Intel          1366  \n1301       AMD          1366  \n1302     Intel          1366  \n\n[1303 rows x 13 columns]",
      "text/html": "<div>\n<style scoped>\n    .dataframe tbody tr th:only-of-type {\n        vertical-align: middle;\n    }\n\n    .dataframe tbody tr th {\n        vertical-align: top;\n    }\n\n    .dataframe thead th {\n        text-align: right;\n    }\n</style>\n<table border=\"1\" class=\"dataframe\">\n  <thead>\n    <tr style=\"text-align: right;\">\n      <th></th>\n      <th>Company</th>\n      <th>TypeName</th>\n      <th>Inches</th>\n      <th>Ram</th>\n      <th>OpSys</th>\n      <th>Weight</th>\n      <th>Price_euros</th>\n      <th>Memory_Type</th>\n      <th>Processor</th>\n      <th>Clock</th>\n      <th>Memory_size_GB</th>\n      <th>Gpu_Brand</th>\n      <th>Screen_Width</th>\n    </tr>\n  </thead>\n  <tbody>\n    <tr>\n      <th>0</th>\n      <td>Apple</td>\n      <td>Ultrabook</td>\n      <td>13.3</td>\n      <td>8</td>\n      <td>macOS</td>\n      <td>1.37</td>\n      <td>1339.69</td>\n      <td>SSD</td>\n      <td>Intel Core i5</td>\n      <td>2.3</td>\n      <td>128.0</td>\n      <td>Intel</td>\n      <td>2560</td>\n    </tr>\n    <tr>\n      <th>1</th>\n      <td>Apple</td>\n      <td>Ultrabook</td>\n      <td>13.3</td>\n      <td>8</td>\n      <td>macOS</td>\n      <td>1.34</td>\n      <td>898.94</td>\n      <td>Flash Storage</td>\n      <td>Intel Core i5</td>\n      <td>1.8</td>\n      <td>128.0</td>\n      <td>Intel</td>\n      <td>1440</td>\n    </tr>\n    <tr>\n      <th>2</th>\n      <td>HP</td>\n      <td>Notebook</td>\n      <td>15.6</td>\n      <td>8</td>\n      <td>No OS</td>\n      <td>1.86</td>\n      <td>575.00</td>\n      <td>SSD</td>\n      <td>Intel Core i5</td>\n      <td>2.5</td>\n      <td>256.0</td>\n      <td>Intel</td>\n      <td>1920</td>\n    </tr>\n    <tr>\n      <th>3</th>\n      <td>Apple</td>\n      <td>Ultrabook</td>\n      <td>15.4</td>\n      <td>16</td>\n      <td>macOS</td>\n      <td>1.83</td>\n      <td>2537.45</td>\n      <td>SSD</td>\n      <td>Intel Core i7</td>\n      <td>2.7</td>\n      <td>512.0</td>\n      <td>AMD</td>\n      <td>2880</td>\n    </tr>\n    <tr>\n      <th>4</th>\n      <td>Apple</td>\n      <td>Ultrabook</td>\n      <td>13.3</td>\n      <td>8</td>\n      <td>macOS</td>\n      <td>1.37</td>\n      <td>1803.60</td>\n      <td>SSD</td>\n      <td>Intel Core i5</td>\n      <td>3.1</td>\n      <td>256.0</td>\n      <td>Intel</td>\n      <td>2560</td>\n    </tr>\n    <tr>\n      <th>...</th>\n      <td>...</td>\n      <td>...</td>\n      <td>...</td>\n      <td>...</td>\n      <td>...</td>\n      <td>...</td>\n      <td>...</td>\n      <td>...</td>\n      <td>...</td>\n      <td>...</td>\n      <td>...</td>\n      <td>...</td>\n      <td>...</td>\n    </tr>\n    <tr>\n      <th>1298</th>\n      <td>Lenovo</td>\n      <td>2 in 1 Convertible</td>\n      <td>14.0</td>\n      <td>4</td>\n      <td>Windows 10</td>\n      <td>1.80</td>\n      <td>638.00</td>\n      <td>SSD</td>\n      <td>Intel Core i7</td>\n      <td>2.5</td>\n      <td>128.0</td>\n      <td>Intel</td>\n      <td>1920</td>\n    </tr>\n    <tr>\n      <th>1299</th>\n      <td>Lenovo</td>\n      <td>2 in 1 Convertible</td>\n      <td>13.3</td>\n      <td>16</td>\n      <td>Windows 10</td>\n      <td>1.30</td>\n      <td>1499.00</td>\n      <td>SSD</td>\n      <td>Intel Core i7</td>\n      <td>2.5</td>\n      <td>512.0</td>\n      <td>Intel</td>\n      <td>3200</td>\n    </tr>\n    <tr>\n      <th>1300</th>\n      <td>Lenovo</td>\n      <td>Notebook</td>\n      <td>14.0</td>\n      <td>2</td>\n      <td>Windows 10</td>\n      <td>1.50</td>\n      <td>229.00</td>\n      <td>Flash Storage</td>\n      <td>Intel Celeron Dual</td>\n      <td>1.6</td>\n      <td>64.0</td>\n      <td>Intel</td>\n      <td>1366</td>\n    </tr>\n    <tr>\n      <th>1301</th>\n      <td>HP</td>\n      <td>Notebook</td>\n      <td>15.6</td>\n      <td>6</td>\n      <td>Windows 10</td>\n      <td>2.19</td>\n      <td>764.00</td>\n      <td>HDD</td>\n      <td>Intel Core i7</td>\n      <td>2.5</td>\n      <td>1024.0</td>\n      <td>AMD</td>\n      <td>1366</td>\n    </tr>\n    <tr>\n      <th>1302</th>\n      <td>Asus</td>\n      <td>Notebook</td>\n      <td>15.6</td>\n      <td>4</td>\n      <td>Windows 10</td>\n      <td>2.20</td>\n      <td>369.00</td>\n      <td>HDD</td>\n      <td>Intel Celeron Dual</td>\n      <td>1.6</td>\n      <td>500.0</td>\n      <td>Intel</td>\n      <td>1366</td>\n    </tr>\n  </tbody>\n</table>\n<p>1303 rows × 13 columns</p>\n</div>"
     },
     "execution_count": 22,
     "metadata": {},
     "output_type": "execute_result"
    }
   ]
  },
  {
   "cell_type": "markdown",
   "source": [
    "Pojawiają się wartości odstające, ale są to wartości realne. Nie jest więc uzasadnione pozbywanie się ich."
   ],
   "metadata": {
    "id": "Jn7hz0X3KpWc"
   }
  },
  {
   "cell_type": "markdown",
   "source": [
    "**Czyszczenie danych**"
   ],
   "metadata": {
    "id": "ryOFMggBK6Um"
   }
  },
  {
   "cell_type": "code",
   "source": [
    "any_nan = df.isnull().values.any()\n",
    "any_nan"
   ],
   "metadata": {
    "id": "e_pzJNnoOjT6",
    "colab": {
     "base_uri": "https://localhost:8080/"
    },
    "outputId": "fdac10a3-7550-4480-d6ac-82ad55e7ad91",
    "ExecuteTime": {
     "end_time": "2024-02-15T20:43:49.238853100Z",
     "start_time": "2024-02-15T20:43:49.216894900Z"
    }
   },
   "execution_count": 23,
   "outputs": [
    {
     "data": {
      "text/plain": "True"
     },
     "execution_count": 23,
     "metadata": {},
     "output_type": "execute_result"
    }
   ]
  },
  {
   "cell_type": "code",
   "source": [
    "df.dropna()\n",
    "df.drop_duplicates(keep='first', inplace=True)\n",
    "\n",
    "def remove_outliers(df, columns):\n",
    "    indices_to_remove = set()\n",
    "\n",
    "    for column in columns:\n",
    "        Q1 = df[column].quantile(0.25)\n",
    "        Q3 = df[column].quantile(0.75)\n",
    "        IQR = Q3 - Q1\n",
    "\n",
    "        lower_bound = Q1 - 1.5 * IQR\n",
    "        upper_bound = Q3 + 1.5 * IQR\n",
    "\n",
    "        outliers_indices = df[(df[column] < lower_bound) | (df[column] > upper_bound)].index\n",
    "        indices_to_remove.update(outliers_indices)\n",
    "\n",
    "    df_cleaned = df.drop(indices_to_remove)\n",
    "\n",
    "    return df_cleaned\n",
    "df = remove_outliers(df, ['Price_euros', \"Inches\"])\n",
    "df"
   ],
   "metadata": {
    "id": "fQrjT-NFQ46E",
    "ExecuteTime": {
     "end_time": "2024-02-15T20:43:51.051769600Z",
     "start_time": "2024-02-15T20:43:50.982600500Z"
    }
   },
   "execution_count": 24,
   "outputs": [
    {
     "data": {
      "text/plain": "     Company            TypeName  Inches  Ram       OpSys  Weight  \\\n0      Apple           Ultrabook    13.3    8       macOS    1.37   \n1      Apple           Ultrabook    13.3    8       macOS    1.34   \n2         HP            Notebook    15.6    8       No OS    1.86   \n3      Apple           Ultrabook    15.4   16       macOS    1.83   \n4      Apple           Ultrabook    13.3    8       macOS    1.37   \n...      ...                 ...     ...  ...         ...     ...   \n1269    Asus            Notebook    15.6    4  Windows 10    2.20   \n1270  Lenovo  2 in 1 Convertible    14.0    4  Windows 10    1.80   \n1271  Lenovo  2 in 1 Convertible    13.3   16  Windows 10    1.30   \n1272  Lenovo            Notebook    14.0    2  Windows 10    1.50   \n1273      HP            Notebook    15.6    6  Windows 10    2.19   \n\n      Price_euros    Memory_Type           Processor  Clock  Memory_size_GB  \\\n0         1339.69            SSD       Intel Core i5    2.3           128.0   \n1          898.94  Flash Storage       Intel Core i5    1.8           128.0   \n2          575.00            SSD       Intel Core i5    2.5           256.0   \n3         2537.45            SSD       Intel Core i7    2.7           512.0   \n4         1803.60            SSD       Intel Core i5    3.1           256.0   \n...           ...            ...                 ...    ...             ...   \n1269       720.32            HDD       Intel Core i7    2.5           500.0   \n1270       638.00            SSD       Intel Core i7    2.5           128.0   \n1271      1499.00            SSD       Intel Core i7    2.5           512.0   \n1272       229.00  Flash Storage  Intel Celeron Dual    1.6            64.0   \n1273       764.00            HDD       Intel Core i7    2.5          1024.0   \n\n     Gpu_Brand  Screen_Width  \n0        Intel          2560  \n1        Intel          1440  \n2        Intel          1920  \n3          AMD          2880  \n4        Intel          2560  \n...        ...           ...  \n1269    Nvidia          1366  \n1270     Intel          1920  \n1271     Intel          3200  \n1272     Intel          1366  \n1273       AMD          1366  \n\n[1209 rows x 13 columns]",
      "text/html": "<div>\n<style scoped>\n    .dataframe tbody tr th:only-of-type {\n        vertical-align: middle;\n    }\n\n    .dataframe tbody tr th {\n        vertical-align: top;\n    }\n\n    .dataframe thead th {\n        text-align: right;\n    }\n</style>\n<table border=\"1\" class=\"dataframe\">\n  <thead>\n    <tr style=\"text-align: right;\">\n      <th></th>\n      <th>Company</th>\n      <th>TypeName</th>\n      <th>Inches</th>\n      <th>Ram</th>\n      <th>OpSys</th>\n      <th>Weight</th>\n      <th>Price_euros</th>\n      <th>Memory_Type</th>\n      <th>Processor</th>\n      <th>Clock</th>\n      <th>Memory_size_GB</th>\n      <th>Gpu_Brand</th>\n      <th>Screen_Width</th>\n    </tr>\n  </thead>\n  <tbody>\n    <tr>\n      <th>0</th>\n      <td>Apple</td>\n      <td>Ultrabook</td>\n      <td>13.3</td>\n      <td>8</td>\n      <td>macOS</td>\n      <td>1.37</td>\n      <td>1339.69</td>\n      <td>SSD</td>\n      <td>Intel Core i5</td>\n      <td>2.3</td>\n      <td>128.0</td>\n      <td>Intel</td>\n      <td>2560</td>\n    </tr>\n    <tr>\n      <th>1</th>\n      <td>Apple</td>\n      <td>Ultrabook</td>\n      <td>13.3</td>\n      <td>8</td>\n      <td>macOS</td>\n      <td>1.34</td>\n      <td>898.94</td>\n      <td>Flash Storage</td>\n      <td>Intel Core i5</td>\n      <td>1.8</td>\n      <td>128.0</td>\n      <td>Intel</td>\n      <td>1440</td>\n    </tr>\n    <tr>\n      <th>2</th>\n      <td>HP</td>\n      <td>Notebook</td>\n      <td>15.6</td>\n      <td>8</td>\n      <td>No OS</td>\n      <td>1.86</td>\n      <td>575.00</td>\n      <td>SSD</td>\n      <td>Intel Core i5</td>\n      <td>2.5</td>\n      <td>256.0</td>\n      <td>Intel</td>\n      <td>1920</td>\n    </tr>\n    <tr>\n      <th>3</th>\n      <td>Apple</td>\n      <td>Ultrabook</td>\n      <td>15.4</td>\n      <td>16</td>\n      <td>macOS</td>\n      <td>1.83</td>\n      <td>2537.45</td>\n      <td>SSD</td>\n      <td>Intel Core i7</td>\n      <td>2.7</td>\n      <td>512.0</td>\n      <td>AMD</td>\n      <td>2880</td>\n    </tr>\n    <tr>\n      <th>4</th>\n      <td>Apple</td>\n      <td>Ultrabook</td>\n      <td>13.3</td>\n      <td>8</td>\n      <td>macOS</td>\n      <td>1.37</td>\n      <td>1803.60</td>\n      <td>SSD</td>\n      <td>Intel Core i5</td>\n      <td>3.1</td>\n      <td>256.0</td>\n      <td>Intel</td>\n      <td>2560</td>\n    </tr>\n    <tr>\n      <th>...</th>\n      <td>...</td>\n      <td>...</td>\n      <td>...</td>\n      <td>...</td>\n      <td>...</td>\n      <td>...</td>\n      <td>...</td>\n      <td>...</td>\n      <td>...</td>\n      <td>...</td>\n      <td>...</td>\n      <td>...</td>\n      <td>...</td>\n    </tr>\n    <tr>\n      <th>1269</th>\n      <td>Asus</td>\n      <td>Notebook</td>\n      <td>15.6</td>\n      <td>4</td>\n      <td>Windows 10</td>\n      <td>2.20</td>\n      <td>720.32</td>\n      <td>HDD</td>\n      <td>Intel Core i7</td>\n      <td>2.5</td>\n      <td>500.0</td>\n      <td>Nvidia</td>\n      <td>1366</td>\n    </tr>\n    <tr>\n      <th>1270</th>\n      <td>Lenovo</td>\n      <td>2 in 1 Convertible</td>\n      <td>14.0</td>\n      <td>4</td>\n      <td>Windows 10</td>\n      <td>1.80</td>\n      <td>638.00</td>\n      <td>SSD</td>\n      <td>Intel Core i7</td>\n      <td>2.5</td>\n      <td>128.0</td>\n      <td>Intel</td>\n      <td>1920</td>\n    </tr>\n    <tr>\n      <th>1271</th>\n      <td>Lenovo</td>\n      <td>2 in 1 Convertible</td>\n      <td>13.3</td>\n      <td>16</td>\n      <td>Windows 10</td>\n      <td>1.30</td>\n      <td>1499.00</td>\n      <td>SSD</td>\n      <td>Intel Core i7</td>\n      <td>2.5</td>\n      <td>512.0</td>\n      <td>Intel</td>\n      <td>3200</td>\n    </tr>\n    <tr>\n      <th>1272</th>\n      <td>Lenovo</td>\n      <td>Notebook</td>\n      <td>14.0</td>\n      <td>2</td>\n      <td>Windows 10</td>\n      <td>1.50</td>\n      <td>229.00</td>\n      <td>Flash Storage</td>\n      <td>Intel Celeron Dual</td>\n      <td>1.6</td>\n      <td>64.0</td>\n      <td>Intel</td>\n      <td>1366</td>\n    </tr>\n    <tr>\n      <th>1273</th>\n      <td>HP</td>\n      <td>Notebook</td>\n      <td>15.6</td>\n      <td>6</td>\n      <td>Windows 10</td>\n      <td>2.19</td>\n      <td>764.00</td>\n      <td>HDD</td>\n      <td>Intel Core i7</td>\n      <td>2.5</td>\n      <td>1024.0</td>\n      <td>AMD</td>\n      <td>1366</td>\n    </tr>\n  </tbody>\n</table>\n<p>1209 rows × 13 columns</p>\n</div>"
     },
     "execution_count": 24,
     "metadata": {},
     "output_type": "execute_result"
    }
   ]
  },
  {
   "cell_type": "markdown",
   "source": [
    "**Hot One Encoding**"
   ],
   "metadata": {
    "id": "A5OkiEX7SUrZ"
   }
  },
  {
   "cell_type": "code",
   "source": [
    "from sklearn.model_selection import train_test_split\n",
    "\n",
    "X = df.drop('Price_euros', axis=1)\n",
    "y = df['Price_euros']\n",
    "X_train, X_test, y_train, y_test = train_test_split(X, y, test_size = 0.2)"
   ],
   "metadata": {
    "colab": {
     "base_uri": "https://localhost:8080/",
     "height": 153
    },
    "id": "2ShvGDCIPKg5",
    "outputId": "99aa7baa-bf35-470b-ca33-3960b53b2e69",
    "ExecuteTime": {
     "end_time": "2024-02-15T20:43:55.150989200Z",
     "start_time": "2024-02-15T20:43:55.129437200Z"
    }
   },
   "execution_count": 25,
   "outputs": []
  },
  {
   "cell_type": "code",
   "source": [
    "from sklearn.preprocessing import OneHotEncoder\n",
    "encoder = OneHotEncoder()\n",
    "df_encoded = df.copy()\n",
    "columns_to_encode=['Company','TypeName', 'OpSys', 'Memory_Type', 'Gpu_Brand', \"Processor\"]\n",
    "encoder.fit(X_train[columns_to_encode])\n",
    "\n",
    "X_train_encoded = encoder.transform(X_train[columns_to_encode])\n",
    "X_test_encoded = encoder.transform(X_test[columns_to_encode])\n",
    "\n",
    "X_train_encoded_df = pd.DataFrame(X_train_encoded.toarray(), columns=encoder.get_feature_names_out(columns_to_encode), index=X_train.index)\n",
    "X_test_encoded_df = pd.DataFrame(X_test_encoded.toarray(), columns=encoder.get_feature_names_out(columns_to_encode), index=X_test.index)\n",
    "\n",
    "X_train_dropped = X_train.drop(columns=columns_to_encode)\n",
    "X_test_dropped = X_test.drop(columns=columns_to_encode)\n",
    "\n",
    "X_train_final = pd.concat([X_train_dropped, X_train_encoded_df], axis=1)\n",
    "X_test_final = pd.concat([X_test_dropped, X_test_encoded_df], axis=1)"
   ],
   "metadata": {
    "colab": {
     "base_uri": "https://localhost:8080/",
     "height": 359
    },
    "id": "5QLHHFFtJsIl",
    "outputId": "2d911e70-8f2c-474e-c5cd-250fc5156fdc",
    "ExecuteTime": {
     "end_time": "2024-02-15T20:44:05.268954600Z",
     "start_time": "2024-02-15T20:44:05.229185700Z"
    }
   },
   "execution_count": 26,
   "outputs": []
  },
  {
   "cell_type": "code",
   "execution_count": 27,
   "outputs": [
    {
     "data": {
      "text/plain": "Inches                          float64\nRam                               int64\nWeight                          float64\nClock                           float64\nMemory_size_GB                  float64\nScreen_Width                      int32\nCompany_Acer                    float64\nCompany_Apple                   float64\nCompany_Asus                    float64\nCompany_Dell                    float64\nCompany_HP                      float64\nCompany_Lenovo                  float64\nCompany_MSI                     float64\nCompany_Others                  float64\nCompany_Toshiba                 float64\nTypeName_2 in 1 Convertible     float64\nTypeName_Gaming                 float64\nTypeName_Netbook                float64\nTypeName_Notebook               float64\nTypeName_Ultrabook              float64\nTypeName_Workstation            float64\nOpSys_Linux                     float64\nOpSys_No OS                     float64\nOpSys_OtherSys                  float64\nOpSys_Windows 10                float64\nOpSys_Windows 7                 float64\nOpSys_macOS                     float64\nMemory_Type_Flash Storage       float64\nMemory_Type_HDD                 float64\nMemory_Type_SSD                 float64\nMemory_Type_nan                 float64\nGpu_Brand_AMD                   float64\nGpu_Brand_ARM                   float64\nGpu_Brand_Intel                 float64\nGpu_Brand_Nvidia                float64\nProcessor_AMD A6-Series         float64\nProcessor_AMD A9-Series         float64\nProcessor_Intel Celeron Dual    float64\nProcessor_Intel Core M          float64\nProcessor_Intel Core i3         float64\nProcessor_Intel Core i5         float64\nProcessor_Intel Core i7         float64\nProcessor_Intel Pentium Quad    float64\nProcessor_Others                float64\ndtype: object"
     },
     "execution_count": 27,
     "metadata": {},
     "output_type": "execute_result"
    }
   ],
   "source": [
    "X_train_final.dtypes"
   ],
   "metadata": {
    "collapsed": false,
    "ExecuteTime": {
     "end_time": "2024-02-15T20:44:08.690590Z",
     "start_time": "2024-02-15T20:44:08.664715900Z"
    }
   }
  },
  {
   "cell_type": "markdown",
   "source": [
    "**Normalizacja zmiennych**"
   ],
   "metadata": {
    "id": "Uwzb16dNTPJ7"
   }
  },
  {
   "cell_type": "markdown",
   "source": [],
   "metadata": {
    "id": "xHU5IlyyTO1S"
   }
  },
  {
   "cell_type": "code",
   "source": [
    "mean_values = X_train_final.mean()\n",
    "std_values = X_train_final.std()\n",
    "\n",
    "print(\"Średnie wartości dla każdej kolumny:\\n\", mean_values)\n",
    "print(\"\\nOdchylenia standardowe dla każdej kolumny:\\n\", std_values)"
   ],
   "metadata": {
    "colab": {
     "base_uri": "https://localhost:8080/"
    },
    "id": "kTElV-bQOmoE",
    "outputId": "580d10b8-56b8-4a8e-bbfd-5fd06178a92d",
    "ExecuteTime": {
     "end_time": "2024-02-15T20:44:14.474597600Z",
     "start_time": "2024-02-15T20:44:14.360746Z"
    }
   },
   "execution_count": 28,
   "outputs": [
    {
     "name": "stdout",
     "output_type": "stream",
     "text": [
      "Średnie wartości dla każdej kolumny:\n",
      " Inches                            15.081799\n",
      "Ram                                8.237849\n",
      "Weight                             2.026140\n",
      "Clock                              2.313382\n",
      "Memory_size_GB                   456.000000\n",
      "Screen_Width                    1900.004137\n",
      "Company_Acer                       0.070321\n",
      "Company_Apple                      0.013444\n",
      "Company_Asus                       0.109617\n",
      "Company_Dell                       0.239917\n",
      "Company_HP                         0.209928\n",
      "Company_Lenovo                     0.230610\n",
      "Company_MSI                        0.045502\n",
      "Company_Others                     0.039297\n",
      "Company_Toshiba                    0.041365\n",
      "TypeName_2 in 1 Convertible        0.089969\n",
      "TypeName_Gaming                    0.150982\n",
      "TypeName_Netbook                   0.006205\n",
      "TypeName_Notebook                  0.580145\n",
      "TypeName_Ultrabook                 0.154085\n",
      "TypeName_Workstation               0.018614\n",
      "OpSys_Linux                        0.046536\n",
      "OpSys_No OS                        0.058945\n",
      "OpSys_OtherSys                     0.009307\n",
      "OpSys_Windows 10                   0.839710\n",
      "OpSys_Windows 7                    0.032058\n",
      "OpSys_macOS                        0.013444\n",
      "Memory_Type_Flash Storage          0.036194\n",
      "Memory_Type_HDD                    0.295760\n",
      "Memory_Type_SSD                    0.660807\n",
      "Memory_Type_nan                    0.007239\n",
      "Gpu_Brand_AMD                      0.131334\n",
      "Gpu_Brand_ARM                      0.001034\n",
      "Gpu_Brand_Intel                    0.558428\n",
      "Gpu_Brand_Nvidia                   0.309204\n",
      "Processor_AMD A6-Series            0.006205\n",
      "Processor_AMD A9-Series            0.011375\n",
      "Processor_Intel Celeron Dual       0.035160\n",
      "Processor_Intel Core M             0.009307\n",
      "Processor_Intel Core i3            0.113754\n",
      "Processor_Intel Core i5            0.358842\n",
      "Processor_Intel Core i7            0.403309\n",
      "Processor_Intel Pentium Quad       0.019648\n",
      "Processor_Others                   0.042399\n",
      "dtype: float64\n",
      "\n",
      "Odchylenia standardowe dla każdej kolumny:\n",
      " Inches                            1.291483\n",
      "Ram                               4.293248\n",
      "Weight                            0.612728\n",
      "Clock                             0.481344\n",
      "Memory_size_GB                  375.052107\n",
      "Screen_Width                    479.645003\n",
      "Company_Acer                      0.255819\n",
      "Company_Apple                     0.115224\n",
      "Company_Asus                      0.312574\n",
      "Company_Dell                      0.427254\n",
      "Company_HP                        0.407467\n",
      "Company_Lenovo                    0.421441\n",
      "Company_MSI                       0.208509\n",
      "Company_Others                    0.194401\n",
      "Company_Toshiba                   0.199236\n",
      "TypeName_2 in 1 Convertible       0.286285\n",
      "TypeName_Gaming                   0.358217\n",
      "TypeName_Netbook                  0.078566\n",
      "TypeName_Notebook                 0.493790\n",
      "TypeName_Ultrabook                0.361217\n",
      "TypeName_Workstation              0.135228\n",
      "OpSys_Linux                       0.210751\n",
      "OpSys_No OS                       0.235644\n",
      "OpSys_OtherSys                    0.096073\n",
      "OpSys_Windows 10                  0.367064\n",
      "OpSys_Windows 7                   0.176245\n",
      "OpSys_macOS                       0.115224\n",
      "Memory_Type_Flash Storage         0.186870\n",
      "Memory_Type_HDD                   0.456620\n",
      "Memory_Type_SSD                   0.473681\n",
      "Memory_Type_nan                   0.084817\n",
      "Gpu_Brand_AMD                     0.337940\n",
      "Gpu_Brand_ARM                     0.032158\n",
      "Gpu_Brand_Intel                   0.496831\n",
      "Gpu_Brand_Nvidia                  0.462404\n",
      "Processor_AMD A6-Series           0.078566\n",
      "Processor_AMD A9-Series           0.106102\n",
      "Processor_Intel Celeron Dual      0.184280\n",
      "Processor_Intel Core M            0.096073\n",
      "Processor_Intel Core i3           0.317676\n",
      "Processor_Intel Core i5           0.479909\n",
      "Processor_Intel Core i7           0.490816\n",
      "Processor_Intel Pentium Quad      0.138861\n",
      "Processor_Others                  0.201602\n",
      "dtype: float64\n"
     ]
    }
   ]
  },
  {
   "cell_type": "code",
   "source": [
    "from sklearn.preprocessing import StandardScaler\n",
    "scaler = StandardScaler()\n",
    "scaler.fit(X_train_final)\n",
    "X_train_scaled = scaler.transform(X_train_final)\n",
    "X_test_scaled = scaler.transform(X_test_final)\n",
    "\n",
    "X_train_scaled_df = pd.DataFrame(X_train_scaled, columns=X_train_final.columns, index=X_train_final.index)\n",
    "X_test_scaled_df = pd.DataFrame(X_test_scaled, columns=X_test_final.columns, index=X_test_final.index)\n",
    "\n",
    "mean_values = X_train_scaled_df.mean()\n",
    "std_values = X_train_scaled_df.std()\n",
    "print(\"Średnie wartości dla każdej kolumny:\\n\", mean_values)\n",
    "print(\"\\nOdchylenia standardowe dla każdej kolumny:\\n\", std_values)"
   ],
   "metadata": {
    "colab": {
     "base_uri": "https://localhost:8080/"
    },
    "id": "Rb_BFbakTdwH",
    "outputId": "7387e3bf-d1e1-4432-ff49-fd56b67c82f2",
    "ExecuteTime": {
     "end_time": "2024-02-15T20:58:32.516713100Z",
     "start_time": "2024-02-15T20:58:32.391904900Z"
    }
   },
   "execution_count": 33,
   "outputs": [
    {
     "name": "stdout",
     "output_type": "stream",
     "text": [
      "Średnie wartości dla każdej kolumny:\n",
      " Inches                          1.418146e-15\n",
      "Ram                             1.102186e-16\n",
      "Weight                          4.592443e-16\n",
      "Clock                           1.901271e-16\n",
      "Memory_size_GB                  6.796815e-17\n",
      "Screen_Width                   -1.028707e-16\n",
      "Company_Acer                    2.939163e-17\n",
      "Company_Apple                  -2.204372e-17\n",
      "Company_Asus                   -7.347908e-18\n",
      "Company_Dell                   -2.663617e-17\n",
      "Company_HP                     -1.065447e-16\n",
      "Company_Lenovo                 -2.939163e-17\n",
      "Company_MSI                     6.613117e-17\n",
      "Company_Others                  9.276734e-17\n",
      "Company_Toshiba                -1.120556e-16\n",
      "TypeName_2 in 1 Convertible    -2.939163e-17\n",
      "TypeName_Gaming                -3.673954e-17\n",
      "TypeName_Netbook               -3.673954e-18\n",
      "TypeName_Notebook               5.051687e-17\n",
      "TypeName_Ultrabook             -4.133198e-17\n",
      "TypeName_Workstation            1.102186e-17\n",
      "OpSys_Linux                     2.204372e-17\n",
      "OpSys_No OS                     5.878327e-17\n",
      "OpSys_OtherSys                 -2.204372e-17\n",
      "OpSys_Windows 10               -1.285884e-17\n",
      "OpSys_Windows 7                -6.429420e-17\n",
      "OpSys_macOS                    -2.204372e-17\n",
      "Memory_Type_Flash Storage      -3.031012e-17\n",
      "Memory_Type_HDD                -6.613117e-17\n",
      "Memory_Type_SSD                 6.245722e-17\n",
      "Memory_Type_nan                 1.469582e-17\n",
      "Gpu_Brand_AMD                  -4.041350e-17\n",
      "Gpu_Brand_ARM                   1.836977e-17\n",
      "Gpu_Brand_Intel                 6.613117e-17\n",
      "Gpu_Brand_Nvidia                1.836977e-17\n",
      "Processor_AMD A6-Series         1.836977e-18\n",
      "Processor_AMD A9-Series        -6.245722e-17\n",
      "Processor_Intel Celeron Dual   -4.592443e-18\n",
      "Processor_Intel Core M         -2.571768e-17\n",
      "Processor_Intel Core i3         2.204372e-17\n",
      "Processor_Intel Core i5        -7.347908e-18\n",
      "Processor_Intel Core i7         1.469582e-17\n",
      "Processor_Intel Pentium Quad   -2.204372e-17\n",
      "Processor_Others                6.613117e-17\n",
      "dtype: float64\n",
      "\n",
      "Odchylenia standardowe dla każdej kolumny:\n",
      " Inches                          1.000517\n",
      "Ram                             1.000517\n",
      "Weight                          1.000517\n",
      "Clock                           1.000517\n",
      "Memory_size_GB                  1.000517\n",
      "Screen_Width                    1.000517\n",
      "Company_Acer                    1.000517\n",
      "Company_Apple                   1.000517\n",
      "Company_Asus                    1.000517\n",
      "Company_Dell                    1.000517\n",
      "Company_HP                      1.000517\n",
      "Company_Lenovo                  1.000517\n",
      "Company_MSI                     1.000517\n",
      "Company_Others                  1.000517\n",
      "Company_Toshiba                 1.000517\n",
      "TypeName_2 in 1 Convertible     1.000517\n",
      "TypeName_Gaming                 1.000517\n",
      "TypeName_Netbook                1.000517\n",
      "TypeName_Notebook               1.000517\n",
      "TypeName_Ultrabook              1.000517\n",
      "TypeName_Workstation            1.000517\n",
      "OpSys_Linux                     1.000517\n",
      "OpSys_No OS                     1.000517\n",
      "OpSys_OtherSys                  1.000517\n",
      "OpSys_Windows 10                1.000517\n",
      "OpSys_Windows 7                 1.000517\n",
      "OpSys_macOS                     1.000517\n",
      "Memory_Type_Flash Storage       1.000517\n",
      "Memory_Type_HDD                 1.000517\n",
      "Memory_Type_SSD                 1.000517\n",
      "Memory_Type_nan                 1.000517\n",
      "Gpu_Brand_AMD                   1.000517\n",
      "Gpu_Brand_ARM                   1.000517\n",
      "Gpu_Brand_Intel                 1.000517\n",
      "Gpu_Brand_Nvidia                1.000517\n",
      "Processor_AMD A6-Series         1.000517\n",
      "Processor_AMD A9-Series         1.000517\n",
      "Processor_Intel Celeron Dual    1.000517\n",
      "Processor_Intel Core M          1.000517\n",
      "Processor_Intel Core i3         1.000517\n",
      "Processor_Intel Core i5         1.000517\n",
      "Processor_Intel Core i7         1.000517\n",
      "Processor_Intel Pentium Quad    1.000517\n",
      "Processor_Others                1.000517\n",
      "dtype: float64\n"
     ]
    }
   ]
  },
  {
   "cell_type": "markdown",
   "source": [
    "**Regresja wielomianowa**"
   ],
   "metadata": {
    "id": "XMyQ3gBPVw3N"
   }
  },
  {
   "cell_type": "code",
   "execution_count": 34,
   "outputs": [
    {
     "name": "stdout",
     "output_type": "stream",
     "text": [
      "Współczynniki: [-4.00323661e+01  1.95609274e+02  7.19587674e+01  7.26636037e+01\n",
      "  4.75698670e+00  9.24389065e+01 -2.27431091e+14 -2.22687017e+15\n",
      " -2.77888159e+14 -3.79842185e+14 -3.62251532e+14 -3.74674755e+14\n",
      " -1.85371397e+14 -1.72828431e+14 -1.77127256e+14 -3.18253150e+14\n",
      " -3.98216962e+14 -8.73391715e+13 -5.48929026e+14 -4.01551761e+14\n",
      " -1.50328425e+14 -2.85798990e+15 -3.19556088e+15 -1.30284569e+15\n",
      " -4.97774719e+15 -2.39005417e+15  5.61878811e+14 -7.93638380e+14\n",
      " -1.93926543e+15 -2.01172232e+15 -3.60217925e+14  2.14793031e+15\n",
      "  2.04393578e+14  3.15783548e+15  2.93901977e+15 -4.82695158e+14\n",
      " -6.51869876e+14 -1.13218111e+15 -5.90254943e+14 -1.95174186e+15\n",
      " -2.94846655e+15 -3.01547570e+15 -8.53132708e+14 -1.23860562e+15]\n"
     ]
    }
   ],
   "source": [
    "from sklearn.linear_model import LinearRegression\n",
    "linear_model = LinearRegression()\n",
    "linear_model.fit(X_train_scaled_df, y_train)\n",
    "y_pred_linear = linear_model.predict(X_test_scaled_df)\n",
    "print(f'Współczynniki: {linear_model.coef_}')"
   ],
   "metadata": {
    "collapsed": false,
    "ExecuteTime": {
     "end_time": "2024-02-15T21:00:15.853066200Z",
     "start_time": "2024-02-15T21:00:15.029499400Z"
    }
   }
  },
  {
   "cell_type": "code",
   "execution_count": 35,
   "outputs": [
    {
     "name": "stdout",
     "output_type": "stream",
     "text": [
      "Współczynniki: [-34.24001356 192.60836004  66.35293674  73.14633402   0.\n",
      "  92.31310653 -32.71782338   9.26434021 -25.92668211 -11.8818004\n",
      "   8.92458624   0.          30.65083795  -0.          22.96688709\n",
      "  18.09922993 -18.54196465  18.02819844 -89.23008809  45.20158436\n",
      "  65.32611954 -24.36489078 -50.06855262  -0.           0.\n",
      "  37.71762841   0.87513898   0.          -3.20124126  71.06171939\n",
      " -11.50391034 -20.89473636  -2.37461192  31.42738969  -0.\n",
      " -23.63099882 -21.66637782 -24.61081546  11.69504446 -47.78660268\n",
      "   0.          52.16082182  -9.5090131  -41.43092677]\n"
     ]
    }
   ],
   "source": [
    "from sklearn.linear_model import Lasso\n",
    "lasso_model = Lasso(alpha=1.0)\n",
    "lasso_model.fit(X_train_scaled_df, y_train)\n",
    "y_pred_lasso = lasso_model.predict(X_test_scaled_df)\n",
    "print(f'Współczynniki: {lasso_model.coef_}')\n"
   ],
   "metadata": {
    "collapsed": false,
    "ExecuteTime": {
     "end_time": "2024-02-15T21:00:40.337501Z",
     "start_time": "2024-02-15T21:00:40.289406900Z"
    }
   }
  },
  {
   "cell_type": "code",
   "execution_count": 36,
   "outputs": [
    {
     "name": "stdout",
     "output_type": "stream",
     "text": [
      "Współczynniki: [-39.94985869 190.70342413  77.15488532  73.60898269   4.54330981\n",
      "  92.6981888  -32.00116396   7.5039796  -23.52672809 -10.1527644\n",
      "  12.6061455    2.83968309  35.35973805   1.1270077   25.53868787\n",
      "  28.39654226 -11.87441567  20.97991517 -73.07341881  58.2833439\n",
      "  70.29460705 -17.52987352 -42.49677597   3.72852346  12.80538395\n",
      "  44.17314686   7.5039796  -10.06469992 -35.66663925  41.51873235\n",
      " -17.68192928 -25.84744775  -4.03013337  24.77700471  -7.45127848\n",
      " -23.79486327 -21.41979184 -23.53718181  13.30377344 -45.23553879\n",
      "   5.53434091  57.81881758  -9.41082794 -40.45513864]\n"
     ]
    }
   ],
   "source": [
    "from sklearn.linear_model import Ridge\n",
    "ridge_model = Ridge(alpha=1.0)\n",
    "ridge_model.fit(X_train_scaled_df, y_train)\n",
    "y_pred_ridge = ridge_model.predict(X_test_scaled_df)\n",
    "print(f'Współczynniki: {ridge_model.coef_}')\n"
   ],
   "metadata": {
    "collapsed": false,
    "ExecuteTime": {
     "end_time": "2024-02-15T21:00:59.030012300Z",
     "start_time": "2024-02-15T21:00:58.991789600Z"
    }
   }
  },
  {
   "cell_type": "code",
   "execution_count": 37,
   "outputs": [
    {
     "name": "stdout",
     "output_type": "stream",
     "text": [
      "Współczynniki: [-2.24993014e+09 -6.38658853e+09  4.36208543e+08 ...  6.72952466e+09\n",
      "  1.95963846e+09 -1.80288480e+09]\n"
     ]
    }
   ],
   "source": [
    "from sklearn.preprocessing import PolynomialFeatures\n",
    "\n",
    "poly_features = PolynomialFeatures(degree=3)\n",
    "X_train_poly = poly_features.fit_transform(X_train_scaled_df)\n",
    "X_test_poly = poly_features.transform(X_test_scaled_df)\n",
    "poly_model = LinearRegression()\n",
    "poly_model.fit(X_train_poly, y_train)\n",
    "y_pred_poly = poly_model.predict(X_test_poly)\n",
    "print(f'Współczynniki: {poly_model.coef_}')\n",
    "\n"
   ],
   "metadata": {
    "collapsed": false,
    "ExecuteTime": {
     "end_time": "2024-02-15T21:01:38.312058700Z",
     "start_time": "2024-02-15T21:01:34.795235500Z"
    }
   }
  },
  {
   "cell_type": "code",
   "execution_count": 38,
   "outputs": [],
   "source": [
    "from sklearn.tree import DecisionTreeRegressor\n",
    "tree_model = DecisionTreeRegressor()\n",
    "tree_model.fit(X_train_scaled_df, y_train)\n",
    "y_pred_tree = tree_model.predict(X_test_scaled_df)\n"
   ],
   "metadata": {
    "collapsed": false,
    "ExecuteTime": {
     "end_time": "2024-02-15T21:02:05.957310200Z",
     "start_time": "2024-02-15T21:02:05.186367200Z"
    }
   }
  },
  {
   "cell_type": "code",
   "execution_count": 39,
   "outputs": [
    {
     "ename": "IndexError",
     "evalue": "index 18 is out of bounds for axis 0 with size 12",
     "output_type": "error",
     "traceback": [
      "\u001B[1;31m---------------------------------------------------------------------------\u001B[0m",
      "\u001B[1;31mIndexError\u001B[0m                                Traceback (most recent call last)",
      "Cell \u001B[1;32mIn[39], line 5\u001B[0m\n\u001B[0;32m      2\u001B[0m \u001B[38;5;28;01mimport\u001B[39;00m \u001B[38;5;21;01mmatplotlib\u001B[39;00m\u001B[38;5;21;01m.\u001B[39;00m\u001B[38;5;21;01mpyplot\u001B[39;00m \u001B[38;5;28;01mas\u001B[39;00m \u001B[38;5;21;01mplt\u001B[39;00m\n\u001B[0;32m      4\u001B[0m plt\u001B[38;5;241m.\u001B[39mfigure(figsize\u001B[38;5;241m=\u001B[39m(\u001B[38;5;241m20\u001B[39m,\u001B[38;5;241m10\u001B[39m))\n\u001B[1;32m----> 5\u001B[0m \u001B[43mplot_tree\u001B[49m\u001B[43m(\u001B[49m\u001B[43mtree_model\u001B[49m\u001B[43m,\u001B[49m\u001B[43m \u001B[49m\u001B[43mfilled\u001B[49m\u001B[38;5;241;43m=\u001B[39;49m\u001B[38;5;28;43;01mTrue\u001B[39;49;00m\u001B[43m,\u001B[49m\u001B[43m \u001B[49m\u001B[43mfeature_names\u001B[49m\u001B[38;5;241;43m=\u001B[39;49m\u001B[43mX\u001B[49m\u001B[38;5;241;43m.\u001B[39;49m\u001B[43mcolumns\u001B[49m\u001B[43m,\u001B[49m\u001B[43m \u001B[49m\u001B[43mmax_depth\u001B[49m\u001B[38;5;241;43m=\u001B[39;49m\u001B[38;5;241;43m3\u001B[39;49m\u001B[43m,\u001B[49m\u001B[43m \u001B[49m\u001B[43mfontsize\u001B[49m\u001B[38;5;241;43m=\u001B[39;49m\u001B[38;5;241;43m10\u001B[39;49m\u001B[43m)\u001B[49m\n\u001B[0;32m      6\u001B[0m plt\u001B[38;5;241m.\u001B[39mshow()\n",
      "File \u001B[1;32m~\\AppData\\Local\\Packages\\PythonSoftwareFoundation.Python.3.11_qbz5n2kfra8p0\\LocalCache\\local-packages\\Python311\\site-packages\\sklearn\\utils\\_param_validation.py:213\u001B[0m, in \u001B[0;36mvalidate_params.<locals>.decorator.<locals>.wrapper\u001B[1;34m(*args, **kwargs)\u001B[0m\n\u001B[0;32m    207\u001B[0m \u001B[38;5;28;01mtry\u001B[39;00m:\n\u001B[0;32m    208\u001B[0m     \u001B[38;5;28;01mwith\u001B[39;00m config_context(\n\u001B[0;32m    209\u001B[0m         skip_parameter_validation\u001B[38;5;241m=\u001B[39m(\n\u001B[0;32m    210\u001B[0m             prefer_skip_nested_validation \u001B[38;5;129;01mor\u001B[39;00m global_skip_validation\n\u001B[0;32m    211\u001B[0m         )\n\u001B[0;32m    212\u001B[0m     ):\n\u001B[1;32m--> 213\u001B[0m         \u001B[38;5;28;01mreturn\u001B[39;00m \u001B[43mfunc\u001B[49m\u001B[43m(\u001B[49m\u001B[38;5;241;43m*\u001B[39;49m\u001B[43margs\u001B[49m\u001B[43m,\u001B[49m\u001B[43m \u001B[49m\u001B[38;5;241;43m*\u001B[39;49m\u001B[38;5;241;43m*\u001B[39;49m\u001B[43mkwargs\u001B[49m\u001B[43m)\u001B[49m\n\u001B[0;32m    214\u001B[0m \u001B[38;5;28;01mexcept\u001B[39;00m InvalidParameterError \u001B[38;5;28;01mas\u001B[39;00m e:\n\u001B[0;32m    215\u001B[0m     \u001B[38;5;66;03m# When the function is just a wrapper around an estimator, we allow\u001B[39;00m\n\u001B[0;32m    216\u001B[0m     \u001B[38;5;66;03m# the function to delegate validation to the estimator, but we replace\u001B[39;00m\n\u001B[0;32m    217\u001B[0m     \u001B[38;5;66;03m# the name of the estimator by the name of the function in the error\u001B[39;00m\n\u001B[0;32m    218\u001B[0m     \u001B[38;5;66;03m# message to avoid confusion.\u001B[39;00m\n\u001B[0;32m    219\u001B[0m     msg \u001B[38;5;241m=\u001B[39m re\u001B[38;5;241m.\u001B[39msub(\n\u001B[0;32m    220\u001B[0m         \u001B[38;5;124mr\u001B[39m\u001B[38;5;124m\"\u001B[39m\u001B[38;5;124mparameter of \u001B[39m\u001B[38;5;124m\\\u001B[39m\u001B[38;5;124mw+ must be\u001B[39m\u001B[38;5;124m\"\u001B[39m,\n\u001B[0;32m    221\u001B[0m         \u001B[38;5;124mf\u001B[39m\u001B[38;5;124m\"\u001B[39m\u001B[38;5;124mparameter of \u001B[39m\u001B[38;5;132;01m{\u001B[39;00mfunc\u001B[38;5;241m.\u001B[39m\u001B[38;5;18m__qualname__\u001B[39m\u001B[38;5;132;01m}\u001B[39;00m\u001B[38;5;124m must be\u001B[39m\u001B[38;5;124m\"\u001B[39m,\n\u001B[0;32m    222\u001B[0m         \u001B[38;5;28mstr\u001B[39m(e),\n\u001B[0;32m    223\u001B[0m     )\n",
      "File \u001B[1;32m~\\AppData\\Local\\Packages\\PythonSoftwareFoundation.Python.3.11_qbz5n2kfra8p0\\LocalCache\\local-packages\\Python311\\site-packages\\sklearn\\tree\\_export.py:211\u001B[0m, in \u001B[0;36mplot_tree\u001B[1;34m(decision_tree, max_depth, feature_names, class_names, label, filled, impurity, node_ids, proportion, rounded, precision, ax, fontsize)\u001B[0m\n\u001B[0;32m    196\u001B[0m check_is_fitted(decision_tree)\n\u001B[0;32m    198\u001B[0m exporter \u001B[38;5;241m=\u001B[39m _MPLTreeExporter(\n\u001B[0;32m    199\u001B[0m     max_depth\u001B[38;5;241m=\u001B[39mmax_depth,\n\u001B[0;32m    200\u001B[0m     feature_names\u001B[38;5;241m=\u001B[39mfeature_names,\n\u001B[1;32m   (...)\u001B[0m\n\u001B[0;32m    209\u001B[0m     fontsize\u001B[38;5;241m=\u001B[39mfontsize,\n\u001B[0;32m    210\u001B[0m )\n\u001B[1;32m--> 211\u001B[0m \u001B[38;5;28;01mreturn\u001B[39;00m \u001B[43mexporter\u001B[49m\u001B[38;5;241;43m.\u001B[39;49m\u001B[43mexport\u001B[49m\u001B[43m(\u001B[49m\u001B[43mdecision_tree\u001B[49m\u001B[43m,\u001B[49m\u001B[43m \u001B[49m\u001B[43max\u001B[49m\u001B[38;5;241;43m=\u001B[39;49m\u001B[43max\u001B[49m\u001B[43m)\u001B[49m\n",
      "File \u001B[1;32m~\\AppData\\Local\\Packages\\PythonSoftwareFoundation.Python.3.11_qbz5n2kfra8p0\\LocalCache\\local-packages\\Python311\\site-packages\\sklearn\\tree\\_export.py:644\u001B[0m, in \u001B[0;36m_MPLTreeExporter.export\u001B[1;34m(self, decision_tree, ax)\u001B[0m\n\u001B[0;32m    642\u001B[0m ax\u001B[38;5;241m.\u001B[39mclear()\n\u001B[0;32m    643\u001B[0m ax\u001B[38;5;241m.\u001B[39mset_axis_off()\n\u001B[1;32m--> 644\u001B[0m my_tree \u001B[38;5;241m=\u001B[39m \u001B[38;5;28;43mself\u001B[39;49m\u001B[38;5;241;43m.\u001B[39;49m\u001B[43m_make_tree\u001B[49m\u001B[43m(\u001B[49m\u001B[38;5;241;43m0\u001B[39;49m\u001B[43m,\u001B[49m\u001B[43m \u001B[49m\u001B[43mdecision_tree\u001B[49m\u001B[38;5;241;43m.\u001B[39;49m\u001B[43mtree_\u001B[49m\u001B[43m,\u001B[49m\u001B[43m \u001B[49m\u001B[43mdecision_tree\u001B[49m\u001B[38;5;241;43m.\u001B[39;49m\u001B[43mcriterion\u001B[49m\u001B[43m)\u001B[49m\n\u001B[0;32m    645\u001B[0m draw_tree \u001B[38;5;241m=\u001B[39m buchheim(my_tree)\n\u001B[0;32m    647\u001B[0m \u001B[38;5;66;03m# important to make sure we're still\u001B[39;00m\n\u001B[0;32m    648\u001B[0m \u001B[38;5;66;03m# inside the axis after drawing the box\u001B[39;00m\n\u001B[0;32m    649\u001B[0m \u001B[38;5;66;03m# this makes sense because the width of a box\u001B[39;00m\n\u001B[0;32m    650\u001B[0m \u001B[38;5;66;03m# is about the same as the distance between boxes\u001B[39;00m\n",
      "File \u001B[1;32m~\\AppData\\Local\\Packages\\PythonSoftwareFoundation.Python.3.11_qbz5n2kfra8p0\\LocalCache\\local-packages\\Python311\\site-packages\\sklearn\\tree\\_export.py:620\u001B[0m, in \u001B[0;36m_MPLTreeExporter._make_tree\u001B[1;34m(self, node_id, et, criterion, depth)\u001B[0m\n\u001B[0;32m    617\u001B[0m \u001B[38;5;28;01mdef\u001B[39;00m \u001B[38;5;21m_make_tree\u001B[39m(\u001B[38;5;28mself\u001B[39m, node_id, et, criterion, depth\u001B[38;5;241m=\u001B[39m\u001B[38;5;241m0\u001B[39m):\n\u001B[0;32m    618\u001B[0m     \u001B[38;5;66;03m# traverses _tree.Tree recursively, builds intermediate\u001B[39;00m\n\u001B[0;32m    619\u001B[0m     \u001B[38;5;66;03m# \"_reingold_tilford.Tree\" object\u001B[39;00m\n\u001B[1;32m--> 620\u001B[0m     name \u001B[38;5;241m=\u001B[39m \u001B[38;5;28;43mself\u001B[39;49m\u001B[38;5;241;43m.\u001B[39;49m\u001B[43mnode_to_str\u001B[49m\u001B[43m(\u001B[49m\u001B[43met\u001B[49m\u001B[43m,\u001B[49m\u001B[43m \u001B[49m\u001B[43mnode_id\u001B[49m\u001B[43m,\u001B[49m\u001B[43m \u001B[49m\u001B[43mcriterion\u001B[49m\u001B[38;5;241;43m=\u001B[39;49m\u001B[43mcriterion\u001B[49m\u001B[43m)\u001B[49m\n\u001B[0;32m    621\u001B[0m     \u001B[38;5;28;01mif\u001B[39;00m et\u001B[38;5;241m.\u001B[39mchildren_left[node_id] \u001B[38;5;241m!=\u001B[39m _tree\u001B[38;5;241m.\u001B[39mTREE_LEAF \u001B[38;5;129;01mand\u001B[39;00m (\n\u001B[0;32m    622\u001B[0m         \u001B[38;5;28mself\u001B[39m\u001B[38;5;241m.\u001B[39mmax_depth \u001B[38;5;129;01mis\u001B[39;00m \u001B[38;5;28;01mNone\u001B[39;00m \u001B[38;5;129;01mor\u001B[39;00m depth \u001B[38;5;241m<\u001B[39m\u001B[38;5;241m=\u001B[39m \u001B[38;5;28mself\u001B[39m\u001B[38;5;241m.\u001B[39mmax_depth\n\u001B[0;32m    623\u001B[0m     ):\n\u001B[0;32m    624\u001B[0m         children \u001B[38;5;241m=\u001B[39m [\n\u001B[0;32m    625\u001B[0m             \u001B[38;5;28mself\u001B[39m\u001B[38;5;241m.\u001B[39m_make_tree(\n\u001B[0;32m    626\u001B[0m                 et\u001B[38;5;241m.\u001B[39mchildren_left[node_id], et, criterion, depth\u001B[38;5;241m=\u001B[39mdepth \u001B[38;5;241m+\u001B[39m \u001B[38;5;241m1\u001B[39m\n\u001B[1;32m   (...)\u001B[0m\n\u001B[0;32m    630\u001B[0m             ),\n\u001B[0;32m    631\u001B[0m         ]\n",
      "File \u001B[1;32m~\\AppData\\Local\\Packages\\PythonSoftwareFoundation.Python.3.11_qbz5n2kfra8p0\\LocalCache\\local-packages\\Python311\\site-packages\\sklearn\\tree\\_export.py:311\u001B[0m, in \u001B[0;36m_BaseTreeExporter.node_to_str\u001B[1;34m(self, tree, node_id, criterion)\u001B[0m\n\u001B[0;32m    308\u001B[0m \u001B[38;5;28;01mif\u001B[39;00m tree\u001B[38;5;241m.\u001B[39mchildren_left[node_id] \u001B[38;5;241m!=\u001B[39m _tree\u001B[38;5;241m.\u001B[39mTREE_LEAF:\n\u001B[0;32m    309\u001B[0m     \u001B[38;5;66;03m# Always write node decision criteria, except for leaves\u001B[39;00m\n\u001B[0;32m    310\u001B[0m     \u001B[38;5;28;01mif\u001B[39;00m \u001B[38;5;28mself\u001B[39m\u001B[38;5;241m.\u001B[39mfeature_names \u001B[38;5;129;01mis\u001B[39;00m \u001B[38;5;129;01mnot\u001B[39;00m \u001B[38;5;28;01mNone\u001B[39;00m:\n\u001B[1;32m--> 311\u001B[0m         feature \u001B[38;5;241m=\u001B[39m \u001B[38;5;28;43mself\u001B[39;49m\u001B[38;5;241;43m.\u001B[39;49m\u001B[43mfeature_names\u001B[49m\u001B[43m[\u001B[49m\u001B[43mtree\u001B[49m\u001B[38;5;241;43m.\u001B[39;49m\u001B[43mfeature\u001B[49m\u001B[43m[\u001B[49m\u001B[43mnode_id\u001B[49m\u001B[43m]\u001B[49m\u001B[43m]\u001B[49m\n\u001B[0;32m    312\u001B[0m     \u001B[38;5;28;01melse\u001B[39;00m:\n\u001B[0;32m    313\u001B[0m         feature \u001B[38;5;241m=\u001B[39m \u001B[38;5;124m\"\u001B[39m\u001B[38;5;124mx\u001B[39m\u001B[38;5;132;01m%s\u001B[39;00m\u001B[38;5;132;01m%s\u001B[39;00m\u001B[38;5;132;01m%s\u001B[39;00m\u001B[38;5;124m\"\u001B[39m \u001B[38;5;241m%\u001B[39m (\n\u001B[0;32m    314\u001B[0m             characters[\u001B[38;5;241m1\u001B[39m],\n\u001B[0;32m    315\u001B[0m             tree\u001B[38;5;241m.\u001B[39mfeature[node_id],\n\u001B[0;32m    316\u001B[0m             characters[\u001B[38;5;241m2\u001B[39m],\n\u001B[0;32m    317\u001B[0m         )\n",
      "File \u001B[1;32m~\\AppData\\Local\\Packages\\PythonSoftwareFoundation.Python.3.11_qbz5n2kfra8p0\\LocalCache\\local-packages\\Python311\\site-packages\\pandas\\core\\indexes\\base.py:5385\u001B[0m, in \u001B[0;36mIndex.__getitem__\u001B[1;34m(self, key)\u001B[0m\n\u001B[0;32m   5382\u001B[0m \u001B[38;5;28;01mif\u001B[39;00m is_integer(key) \u001B[38;5;129;01mor\u001B[39;00m is_float(key):\n\u001B[0;32m   5383\u001B[0m     \u001B[38;5;66;03m# GH#44051 exclude bool, which would return a 2d ndarray\u001B[39;00m\n\u001B[0;32m   5384\u001B[0m     key \u001B[38;5;241m=\u001B[39m com\u001B[38;5;241m.\u001B[39mcast_scalar_indexer(key)\n\u001B[1;32m-> 5385\u001B[0m     \u001B[38;5;28;01mreturn\u001B[39;00m \u001B[43mgetitem\u001B[49m\u001B[43m(\u001B[49m\u001B[43mkey\u001B[49m\u001B[43m)\u001B[49m\n\u001B[0;32m   5387\u001B[0m \u001B[38;5;28;01mif\u001B[39;00m \u001B[38;5;28misinstance\u001B[39m(key, \u001B[38;5;28mslice\u001B[39m):\n\u001B[0;32m   5388\u001B[0m     \u001B[38;5;66;03m# This case is separated from the conditional above to avoid\u001B[39;00m\n\u001B[0;32m   5389\u001B[0m     \u001B[38;5;66;03m# pessimization com.is_bool_indexer and ndim checks.\u001B[39;00m\n\u001B[0;32m   5390\u001B[0m     \u001B[38;5;28;01mreturn\u001B[39;00m \u001B[38;5;28mself\u001B[39m\u001B[38;5;241m.\u001B[39m_getitem_slice(key)\n",
      "\u001B[1;31mIndexError\u001B[0m: index 18 is out of bounds for axis 0 with size 12"
     ]
    },
    {
     "data": {
      "text/plain": "<Figure size 2000x1000 with 1 Axes>",
      "image/png": "[encoded data removed]"
     },
     "metadata": {},
     "output_type": "display_data"
    }
   ],
   "source": [
    "from sklearn.tree import plot_tree\n",
    "import matplotlib.pyplot as plt\n",
    "\n",
    "plt.figure(figsize=(20,10))\n",
    "plot_tree(tree_model, filled=True, feature_names=X.columns, max_depth=3, fontsize=10)\n",
    "plt.show()\n"
   ],
   "metadata": {
    "collapsed": false,
    "ExecuteTime": {
     "end_time": "2024-02-15T21:02:15.319836Z",
     "start_time": "2024-02-15T21:02:12.162810400Z"
    }
   }
  },
  {
   "cell_type": "code",
   "execution_count": 40,
   "outputs": [],
   "source": [
    "from sklearn.metrics import r2_score, mean_squared_error\n",
    "model_names = ['Linear', 'Lasso', 'Ridge', 'Polynomial', 'Decision Tree']\n",
    "predictions = [y_pred_linear, y_pred_lasso, y_pred_ridge, y_pred_poly, y_pred_tree]\n",
    "results = []\n",
    "\n",
    "for model_name, pred in zip(model_names, predictions):\n",
    "    mse = mean_squared_error(y_test, pred)\n",
    "    r2 = r2_score(y_test, pred)\n",
    "    results.append({\"Model\": model_name, \"MSE\": mse, \"R2\": r2})\n",
    "\n",
    "results_df = pd.DataFrame(results)"
   ],
   "metadata": {
    "collapsed": false,
    "ExecuteTime": {
     "end_time": "2024-02-15T21:02:41.951127900Z",
     "start_time": "2024-02-15T21:02:41.921166Z"
    }
   }
  },
  {
   "cell_type": "code",
   "execution_count": 41,
   "outputs": [
    {
     "data": {
      "text/plain": "           Model           MSE            R2\n0         Linear  8.040305e+04  7.801041e-01\n1          Lasso  8.033958e+04  7.802777e-01\n2          Ridge  8.045781e+04  7.799544e-01\n3     Polynomial  8.043261e+24 -2.199767e+19\n4  Decision Tree  1.116344e+05  6.946890e-01",
      "text/html": "<div>\n<style scoped>\n    .dataframe tbody tr th:only-of-type {\n        vertical-align: middle;\n    }\n\n    .dataframe tbody tr th {\n        vertical-align: top;\n    }\n\n    .dataframe thead th {\n        text-align: right;\n    }\n</style>\n<table border=\"1\" class=\"dataframe\">\n  <thead>\n    <tr style=\"text-align: right;\">\n      <th></th>\n      <th>Model</th>\n      <th>MSE</th>\n      <th>R2</th>\n    </tr>\n  </thead>\n  <tbody>\n    <tr>\n      <th>0</th>\n      <td>Linear</td>\n      <td>8.040305e+04</td>\n      <td>7.801041e-01</td>\n    </tr>\n    <tr>\n      <th>1</th>\n      <td>Lasso</td>\n      <td>8.033958e+04</td>\n      <td>7.802777e-01</td>\n    </tr>\n    <tr>\n      <th>2</th>\n      <td>Ridge</td>\n      <td>8.045781e+04</td>\n      <td>7.799544e-01</td>\n    </tr>\n    <tr>\n      <th>3</th>\n      <td>Polynomial</td>\n      <td>8.043261e+24</td>\n      <td>-2.199767e+19</td>\n    </tr>\n    <tr>\n      <th>4</th>\n      <td>Decision Tree</td>\n      <td>1.116344e+05</td>\n      <td>6.946890e-01</td>\n    </tr>\n  </tbody>\n</table>\n</div>"
     },
     "execution_count": 41,
     "metadata": {},
     "output_type": "execute_result"
    }
   ],
   "source": [
    "results_df"
   ],
   "metadata": {
    "collapsed": false,
    "ExecuteTime": {
     "end_time": "2024-02-15T21:02:47.202325300Z",
     "start_time": "2024-02-15T21:02:47.178587600Z"
    }
   }
  },
  {
   "cell_type": "code",
   "execution_count": 163,
   "outputs": [],
   "source": [],
   "metadata": {
    "collapsed": false,
    "ExecuteTime": {
     "end_time": "2024-02-11T10:11:24.824085800Z",
     "start_time": "2024-02-11T10:11:24.607138200Z"
    }
   }
  }
 ]
}
