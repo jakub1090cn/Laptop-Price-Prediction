{
 "nbformat": 4,
 "nbformat_minor": 0,
 "metadata": {
  "colab": {
   "provenance": []
  },
  "kernelspec": {
   "name": "python3",
   "language": "python",
   "display_name": "Python 3 (ipykernel)"
  },
  "language_info": {
   "name": "python"
  }
 },
 "cells": [
  {
   "cell_type": "markdown",
   "source": [
    "**Laptop Price Prediction Using Linear Regression**\n",
    "*Introduction*\n",
    "This project aims to build a linear regression model to predict laptop prices based on various features such as brand, processor, RAM, hard drive type, screen size, and others. The dataset used in this project is sourced from Kaggle and includes a wide range of information on laptop specifications and their prices.\n",
    "\n",
    "*Data Source*\n",
    "The dataset for this project is sourced from the following link:\n",
    "https://www.kaggle.com/datasets/muhammetvarl/laptop-price/discussion/361977.\n",
    "This dataset contains detailed specifications and pricing information for laptops, making it an ideal candidate for regression analysis.\n",
    "\n",
    "*Project Objective*\n",
    "The primary objective of this project is to understand how various laptop features influence their prices and to build an effective linear regression model that can be used to predict the prices of laptops based on their specifications. This model could be beneficial for consumers seeking pricing guidance and for vendors in setting competitive prices for their products.\n",
    "\n",
    "*Methodology*\n",
    "This project follows a systematic approach to build and evaluate a linear regression model for predicting laptop prices. The methodology includes several key steps, as outlined below:\n",
    "\n",
    "* Data Cleaning\n",
    "- Handling Missing Data: Identify and address missing values in the dataset. Missing data can significantly affect regression analysis. Options for handling missing data include imputation (filling in missing values with statistical measures like mean or median) or removal of records with missing values.\n",
    "- Outlier Detection and Removal: Identify and eliminate outliers, which are data points significantly different from others. Outliers can distort the analysis and model performance. Techniques such as Z-score and IQR (Interquartile Range) can be used for outlier detection.\n",
    "* Feature Encoding\n",
    "- Categorical Variables: Categorical variables cannot be directly used in regression models. Encoding techniques, such as one-hot encoding, are applied to transform these variables into a numerical format. This process involves creating additional binary (0 or 1) columns for each category of the variable.\n",
    "* Variable Normalization\n",
    "- Standardization: Ensure that numeric variables are standardized, which means they are scaled to have a mean of 0 and a standard deviation of 1. Standardization helps in comparing the influence of different variables on the model and can improve the convergence of gradient-based optimization algorithms used in model training.\n",
    "* Predictions Using Different Models\n",
    "- Model Exploration: Besides linear regression, explore other regression models to compare performances. Common alternatives include Ridge Regression, Lasso Regression, and Polynomial Regression. This comparative analysis can help in identifying the most suitable model for predicting laptop prices based on the given features.\n",
    "* Model Evaluation\n",
    "- Use appropriate metrics to evaluate the performance of the regression models. Common metrics include Mean Squared Error (MSE), Root Mean Squared Error (RMSE), Mean Absolute Error (MAE), and R² (Coefficient of Determination). These metrics provide insights into the accuracy and reliability of the predictions."
   ],
   "metadata": {
    "collapsed": false
   }
  },
  {
   "cell_type": "markdown",
   "source": [
    "**Reading Data**"
   ],
   "metadata": {
    "collapsed": false
   }
  },
  {
   "cell_type": "code",
   "execution_count": 55,
   "metadata": {
    "colab": {
     "base_uri": "https://localhost:8080/",
     "height": 414
    },
    "id": "uawwCNjEJ40K",
    "outputId": "74dd83ba-3114-4ae2-ff4d-55842dd9c984",
    "ExecuteTime": {
     "end_time": "2024-02-19T21:36:30.796293100Z",
     "start_time": "2024-02-19T21:36:30.680450800Z"
    }
   },
   "outputs": [
    {
     "data": {
      "text/plain": "   laptop_ID Company      Product   TypeName  Inches  \\\n0          1   Apple  MacBook Pro  Ultrabook    13.3   \n1          2   Apple  Macbook Air  Ultrabook    13.3   \n2          3      HP       250 G6   Notebook    15.6   \n3          4   Apple  MacBook Pro  Ultrabook    15.4   \n4          5   Apple  MacBook Pro  Ultrabook    13.3   \n\n                     ScreenResolution                         Cpu   Ram  \\\n0  IPS Panel Retina Display 2560x1600        Intel Core i5 2.3GHz   8GB   \n1                            1440x900        Intel Core i5 1.8GHz   8GB   \n2                   Full HD 1920x1080  Intel Core i5 7200U 2.5GHz   8GB   \n3  IPS Panel Retina Display 2880x1800        Intel Core i7 2.7GHz  16GB   \n4  IPS Panel Retina Display 2560x1600        Intel Core i5 3.1GHz   8GB   \n\n                Memory                           Gpu  OpSys  Weight  \\\n0            128GB SSD  Intel Iris Plus Graphics 640  macOS  1.37kg   \n1  128GB Flash Storage        Intel HD Graphics 6000  macOS  1.34kg   \n2            256GB SSD         Intel HD Graphics 620  No OS  1.86kg   \n3            512GB SSD            AMD Radeon Pro 455  macOS  1.83kg   \n4            256GB SSD  Intel Iris Plus Graphics 650  macOS  1.37kg   \n\n   Price_euros  \n0      1339.69  \n1       898.94  \n2       575.00  \n3      2537.45  \n4      1803.60  ",
      "text/html": "<div>\n<style scoped>\n    .dataframe tbody tr th:only-of-type {\n        vertical-align: middle;\n    }\n\n    .dataframe tbody tr th {\n        vertical-align: top;\n    }\n\n    .dataframe thead th {\n        text-align: right;\n    }\n</style>\n<table border=\"1\" class=\"dataframe\">\n  <thead>\n    <tr style=\"text-align: right;\">\n      <th></th>\n      <th>laptop_ID</th>\n      <th>Company</th>\n      <th>Product</th>\n      <th>TypeName</th>\n      <th>Inches</th>\n      <th>ScreenResolution</th>\n      <th>Cpu</th>\n      <th>Ram</th>\n      <th>Memory</th>\n      <th>Gpu</th>\n      <th>OpSys</th>\n      <th>Weight</th>\n      <th>Price_euros</th>\n    </tr>\n  </thead>\n  <tbody>\n    <tr>\n      <th>0</th>\n      <td>1</td>\n      <td>Apple</td>\n      <td>MacBook Pro</td>\n      <td>Ultrabook</td>\n      <td>13.3</td>\n      <td>IPS Panel Retina Display 2560x1600</td>\n      <td>Intel Core i5 2.3GHz</td>\n      <td>8GB</td>\n      <td>128GB SSD</td>\n      <td>Intel Iris Plus Graphics 640</td>\n      <td>macOS</td>\n      <td>1.37kg</td>\n      <td>1339.69</td>\n    </tr>\n    <tr>\n      <th>1</th>\n      <td>2</td>\n      <td>Apple</td>\n      <td>Macbook Air</td>\n      <td>Ultrabook</td>\n      <td>13.3</td>\n      <td>1440x900</td>\n      <td>Intel Core i5 1.8GHz</td>\n      <td>8GB</td>\n      <td>128GB Flash Storage</td>\n      <td>Intel HD Graphics 6000</td>\n      <td>macOS</td>\n      <td>1.34kg</td>\n      <td>898.94</td>\n    </tr>\n    <tr>\n      <th>2</th>\n      <td>3</td>\n      <td>HP</td>\n      <td>250 G6</td>\n      <td>Notebook</td>\n      <td>15.6</td>\n      <td>Full HD 1920x1080</td>\n      <td>Intel Core i5 7200U 2.5GHz</td>\n      <td>8GB</td>\n      <td>256GB SSD</td>\n      <td>Intel HD Graphics 620</td>\n      <td>No OS</td>\n      <td>1.86kg</td>\n      <td>575.00</td>\n    </tr>\n    <tr>\n      <th>3</th>\n      <td>4</td>\n      <td>Apple</td>\n      <td>MacBook Pro</td>\n      <td>Ultrabook</td>\n      <td>15.4</td>\n      <td>IPS Panel Retina Display 2880x1800</td>\n      <td>Intel Core i7 2.7GHz</td>\n      <td>16GB</td>\n      <td>512GB SSD</td>\n      <td>AMD Radeon Pro 455</td>\n      <td>macOS</td>\n      <td>1.83kg</td>\n      <td>2537.45</td>\n    </tr>\n    <tr>\n      <th>4</th>\n      <td>5</td>\n      <td>Apple</td>\n      <td>MacBook Pro</td>\n      <td>Ultrabook</td>\n      <td>13.3</td>\n      <td>IPS Panel Retina Display 2560x1600</td>\n      <td>Intel Core i5 3.1GHz</td>\n      <td>8GB</td>\n      <td>256GB SSD</td>\n      <td>Intel Iris Plus Graphics 650</td>\n      <td>macOS</td>\n      <td>1.37kg</td>\n      <td>1803.60</td>\n    </tr>\n  </tbody>\n</table>\n</div>"
     },
     "execution_count": 55,
     "metadata": {},
     "output_type": "execute_result"
    }
   ],
   "source": [
    "import pandas as pd\n",
    "\n",
    "df = pd.read_csv('laptop_price.csv', encoding='latin-1')\n",
    "df.head()"
   ]
  },
  {
   "cell_type": "markdown",
   "source": [
    "**Preprocessing data**\n"
   ],
   "metadata": {
    "collapsed": false
   }
  },
  {
   "cell_type": "code",
   "execution_count": 56,
   "outputs": [],
   "source": [
    "# When analyzing data, we encounter a few rare companies. Training a model with such a limited dataset could be impossible, so I decided to create a category 'Others' that encompasses all these rare companies.\n",
    "\n",
    "brand_counts = df['Company'].value_counts()\n",
    "small_brands = brand_counts[brand_counts < 10].index\n",
    "df['Company'] = df['Company'].apply(lambda x: \"Others\" if x in small_brands else x)"
   ],
   "metadata": {
    "collapsed": false,
    "ExecuteTime": {
     "end_time": "2024-02-19T21:36:30.891308700Z",
     "start_time": "2024-02-19T21:36:30.702800800Z"
    }
   }
  },
  {
   "cell_type": "code",
   "execution_count": 57,
   "outputs": [],
   "source": [
    "# In the dataset, there are a few Operating Systems that can be categorized as more common OSes. To streamline this, I decided to unify certain Operating Systems by replacing specific versions with their more general counterparts.\n",
    "\n",
    "df['OpSys'] = df['OpSys'].replace({'Windows 10 S': 'Windows 10', 'Mac OS X': 'macOS'})\n",
    "\n",
    "# In the dataset, some Operating Systems are less common. To improve predictions, I categorized these rare Operating Systems under a unified label named 'OtherSys'. This was accomplished by replacing occurrences of 'Chrome OS' and 'Android' in the 'OpSys' column of the dataframe df with 'OtherSys'.\n",
    "\n",
    "df['OpSys'] = df['OpSys'].replace(['Chrome OS', 'Android'], 'OtherSys')"
   ],
   "metadata": {
    "collapsed": false,
    "ExecuteTime": {
     "end_time": "2024-02-19T21:36:30.913356700Z",
     "start_time": "2024-02-19T21:36:30.710195900Z"
    }
   }
  },
  {
   "cell_type": "code",
   "source": [
    "# The 'Memory' column contains both the value and type of memory. I created a new column named 'Memory_Type' and extracted the type of memory using regex. This provided me with a column containing valuable information regarding the type of memory in each device, whether it's SSD, HDD, or Flash Storage.\n",
    "\n",
    "df['Memory_Type'] = df['Memory'].str.extract(r'(SSD|HDD|Flash Storage)', expand=False)"
   ],
   "metadata": {
    "colab": {
     "base_uri": "https://localhost:8080/",
     "height": 542
    },
    "id": "1ZjDAKz7RYit",
    "outputId": "ac6fabae-522d-4e7c-c42e-d63a35e75230",
    "ExecuteTime": {
     "end_time": "2024-02-19T21:36:30.913356700Z",
     "start_time": "2024-02-19T21:36:30.723247500Z"
    }
   },
   "execution_count": 58,
   "outputs": []
  },
  {
   "cell_type": "code",
   "execution_count": 59,
   "outputs": [],
   "source": [
    "# The 'Memory' column contains values specified in GB and TB. To standardize these values, I converted all of them to GB and removed the units. This process resulted in numeric values all in a single unit of measurement, GB, making the data more consistent and easier to analyze.\n",
    "\n",
    "import re\n",
    "def convert_to_gb(value):\n",
    "    unit_map = {'TB': 1024, 'GB': 1}\n",
    "    match = re.search(r'(\\d+)(TB|GB)', value, re.IGNORECASE)\n",
    "    if match:\n",
    "        num, unit = match.groups()\n",
    "        return float(num) * unit_map[unit.upper()]\n",
    "    else:\n",
    "        return None\n",
    "\n",
    "df['Memory_size_GB'] = df['Memory'].apply(convert_to_gb)"
   ],
   "metadata": {
    "collapsed": false,
    "ExecuteTime": {
     "end_time": "2024-02-19T21:36:30.931637Z",
     "start_time": "2024-02-19T21:36:30.736315Z"
    }
   }
  },
  {
   "cell_type": "code",
   "execution_count": 60,
   "outputs": [],
   "source": [
    "# The 'Cpu' column contains information about both the processor model and its clock frequency. To better organize this data, I split it into two separate columns. Using a lambda function, I separated the processor model and clock frequency at the last space character, resulting in two new columns: 'Processor' for the processor model and 'Clock' for the clock frequency.\n",
    "\n",
    "df[['Processor', 'Clock']] = df['Cpu'].apply(lambda x: pd.Series(str(x).rsplit(' ', 1)))"
   ],
   "metadata": {
    "collapsed": false,
    "ExecuteTime": {
     "end_time": "2024-02-19T21:36:30.997078700Z",
     "start_time": "2024-02-19T21:36:30.748333Z"
    }
   }
  },
  {
   "cell_type": "code",
   "execution_count": 61,
   "outputs": [],
   "source": [
    "# To streamline the processor information, I implemented a function called trim_processor to remove less relevant parts of the description. This function checks if the processor description starts with 'Intel'; if so, it retains only the first three words of the description. For other processors, it keeps the first two words.\n",
    "\n",
    "def trim_processor(value):\n",
    "    if value.startswith('Intel'):\n",
    "        return ' '.join(value.split(' ', 3)[:3])\n",
    "    else:\n",
    "        return ' '.join(value.split(' ', 2)[:2])\n",
    "\n",
    "df['Processor'] = df['Processor'].apply(trim_processor)"
   ],
   "metadata": {
    "collapsed": false,
    "ExecuteTime": {
     "end_time": "2024-02-19T21:36:31.005759500Z",
     "start_time": "2024-02-19T21:36:30.851407400Z"
    }
   }
  },
  {
   "cell_type": "code",
   "execution_count": 0,
   "outputs": [],
   "source": [
    "# To provide better learning models I ograniczyłem number of Processors and changed rare processors to Others\n",
    "\n",
    "cpu_counts = df['Processor'].value_counts()\n",
    "rare_cpu = cpu_counts[cpu_counts < 10].index\n",
    "df['Processor'] = df['Processor'].apply(lambda x: \"Others\" if x in rare_cpu else x)"
   ],
   "metadata": {
    "collapsed": false
   }
  },
  {
   "cell_type": "code",
   "execution_count": 0,
   "outputs": [],
   "source": [
    "# In the columns 'Clock', 'Ram', and 'Weight', the units are consistent, so I decided to remove the units to obtain numeric values. This was achieved by applying transformation functions to each column.\n",
    "\n",
    "df['Clock'] = df['Clock'].apply(lambda x: float(str(x).strip(\"GHz\")))\n",
    "df['Ram'] = df[\"Ram\"].apply(lambda x: int(str(x).strip(\"GB\")))\n",
    "df['Weight'] = df[\"Weight\"].apply(lambda x: float(str(x).strip(\"kg\")))"
   ],
   "metadata": {
    "collapsed": false
   }
  },
  {
   "cell_type": "code",
   "execution_count": 0,
   "outputs": [],
   "source": [
    "# To disregard non-essential information, I opted to eliminate all detailed GPU information and retain only the brand. This was accomplished by creating a new column 'Gpu_Brand' in the dataframe df. I extracted the brand from the 'Gpu' column by splitting each entry at the first space and keeping only the first part, which typically represents the brand name. This approach simplifies the GPU data to focus solely on the brand, which might be sufficient for modeling purposes.\n",
    "\n",
    "df['Gpu_Brand'] = df['Gpu'].str.split(n=1, expand=True)[0]"
   ],
   "metadata": {
    "collapsed": false
   }
  },
  {
   "cell_type": "code",
   "execution_count": 0,
   "outputs": [],
   "source": [
    "# To obtain a numeric value and simplify the screen resolution information, I decided to limit the 'Screen Resolution' data to just the 'Screen Width'. This was done by creating a new column named 'Screen_Width' in the dataframe `df'. I extracted the width from the 'ScreenResolution' column by splitting each entry from the right at the last space, taking the last part which typically contains the resolution (e.g., '1920x1080'), and then splitting this by 'x' to separate width from height. I kept only the width (the first part) and converted it to an integer. This method effectively reduces the screen resolution data to a single, numeric width value, making it more straightforward for numerical analysis or modeling.\n",
    "\n",
    "df['Screen_Width'] = df['ScreenResolution'].str.rsplit(' ', n=1).str[-1].str.split('x').str[0].astype(int)"
   ],
   "metadata": {
    "collapsed": false
   }
  },
  {
   "cell_type": "code",
   "execution_count": 0,
   "outputs": [],
   "source": [
    "# After extracting the relevant data, I remove unnecessary columns from the dataframe to streamline it.\n",
    "df = df.drop(['laptop_ID', 'Product', 'ScreenResolution', 'Cpu', 'Memory', 'Gpu'], axis=1)"
   ],
   "metadata": {
    "collapsed": false
   }
  },
  {
   "cell_type": "code",
   "execution_count": 62,
   "outputs": [
    {
     "data": {
      "text/plain": "  Company   TypeName  Inches  Ram  OpSys  Weight  Price_euros    Memory_Type  \\\n0   Apple  Ultrabook    13.3    8  macOS    1.37      1339.69            SSD   \n1   Apple  Ultrabook    13.3    8  macOS    1.34       898.94  Flash Storage   \n2      HP   Notebook    15.6    8  No OS    1.86       575.00            SSD   \n3   Apple  Ultrabook    15.4   16  macOS    1.83      2537.45            SSD   \n4   Apple  Ultrabook    13.3    8  macOS    1.37      1803.60            SSD   \n\n   Memory_size_GB      Processor  Clock Gpu_Brand  Screen_Width  \n0           128.0  Intel Core i5    2.3     Intel          2560  \n1           128.0  Intel Core i5    1.8     Intel          1440  \n2           256.0  Intel Core i5    2.5     Intel          1920  \n3           512.0  Intel Core i7    2.7       AMD          2880  \n4           256.0  Intel Core i5    3.1     Intel          2560  ",
      "text/html": "<div>\n<style scoped>\n    .dataframe tbody tr th:only-of-type {\n        vertical-align: middle;\n    }\n\n    .dataframe tbody tr th {\n        vertical-align: top;\n    }\n\n    .dataframe thead th {\n        text-align: right;\n    }\n</style>\n<table border=\"1\" class=\"dataframe\">\n  <thead>\n    <tr style=\"text-align: right;\">\n      <th></th>\n      <th>Company</th>\n      <th>TypeName</th>\n      <th>Inches</th>\n      <th>Ram</th>\n      <th>OpSys</th>\n      <th>Weight</th>\n      <th>Price_euros</th>\n      <th>Memory_Type</th>\n      <th>Memory_size_GB</th>\n      <th>Processor</th>\n      <th>Clock</th>\n      <th>Gpu_Brand</th>\n      <th>Screen_Width</th>\n    </tr>\n  </thead>\n  <tbody>\n    <tr>\n      <th>0</th>\n      <td>Apple</td>\n      <td>Ultrabook</td>\n      <td>13.3</td>\n      <td>8</td>\n      <td>macOS</td>\n      <td>1.37</td>\n      <td>1339.69</td>\n      <td>SSD</td>\n      <td>128.0</td>\n      <td>Intel Core i5</td>\n      <td>2.3</td>\n      <td>Intel</td>\n      <td>2560</td>\n    </tr>\n    <tr>\n      <th>1</th>\n      <td>Apple</td>\n      <td>Ultrabook</td>\n      <td>13.3</td>\n      <td>8</td>\n      <td>macOS</td>\n      <td>1.34</td>\n      <td>898.94</td>\n      <td>Flash Storage</td>\n      <td>128.0</td>\n      <td>Intel Core i5</td>\n      <td>1.8</td>\n      <td>Intel</td>\n      <td>1440</td>\n    </tr>\n    <tr>\n      <th>2</th>\n      <td>HP</td>\n      <td>Notebook</td>\n      <td>15.6</td>\n      <td>8</td>\n      <td>No OS</td>\n      <td>1.86</td>\n      <td>575.00</td>\n      <td>SSD</td>\n      <td>256.0</td>\n      <td>Intel Core i5</td>\n      <td>2.5</td>\n      <td>Intel</td>\n      <td>1920</td>\n    </tr>\n    <tr>\n      <th>3</th>\n      <td>Apple</td>\n      <td>Ultrabook</td>\n      <td>15.4</td>\n      <td>16</td>\n      <td>macOS</td>\n      <td>1.83</td>\n      <td>2537.45</td>\n      <td>SSD</td>\n      <td>512.0</td>\n      <td>Intel Core i7</td>\n      <td>2.7</td>\n      <td>AMD</td>\n      <td>2880</td>\n    </tr>\n    <tr>\n      <th>4</th>\n      <td>Apple</td>\n      <td>Ultrabook</td>\n      <td>13.3</td>\n      <td>8</td>\n      <td>macOS</td>\n      <td>1.37</td>\n      <td>1803.60</td>\n      <td>SSD</td>\n      <td>256.0</td>\n      <td>Intel Core i5</td>\n      <td>3.1</td>\n      <td>Intel</td>\n      <td>2560</td>\n    </tr>\n  </tbody>\n</table>\n</div>"
     },
     "execution_count": 62,
     "metadata": {},
     "output_type": "execute_result"
    }
   ],
   "source": [
    "# Now we can see how DataFrame looks\n",
    "df.head()"
   ],
   "metadata": {
    "collapsed": false
   }
  },
  {
   "cell_type": "markdown",
   "source": [
    "**Cleaning data**"
   ],
   "metadata": {
    "id": "ryOFMggBK6Um"
   }
  },
  {
   "cell_type": "code",
   "source": [
    "any_nan = df.isnull().values.any()\n",
    "any_nan"
   ],
   "metadata": {
    "id": "e_pzJNnoOjT6",
    "colab": {
     "base_uri": "https://localhost:8080/"
    },
    "outputId": "fdac10a3-7550-4480-d6ac-82ad55e7ad91",
    "ExecuteTime": {
     "end_time": "2024-02-19T21:36:31.006758200Z",
     "start_time": "2024-02-19T21:36:30.888182500Z"
    }
   },
   "execution_count": 63,
   "outputs": [
    {
     "data": {
      "text/plain": "True"
     },
     "execution_count": 63,
     "metadata": {},
     "output_type": "execute_result"
    }
   ]
  },
  {
   "cell_type": "code",
   "source": [
    "df.dropna()\n",
    "df.drop_duplicates(keep='first', inplace=True)\n",
    "\n",
    "def remove_outliers(df, columns):\n",
    "    indices_to_remove = set()\n",
    "\n",
    "    for column in columns:\n",
    "        Q1 = df[column].quantile(0.25)\n",
    "        Q3 = df[column].quantile(0.75)\n",
    "        IQR = Q3 - Q1\n",
    "\n",
    "        lower_bound = Q1 - 1.5 * IQR\n",
    "        upper_bound = Q3 + 1.5 * IQR\n",
    "\n",
    "        outliers_indices = df[(df[column] < lower_bound) | (df[column] > upper_bound)].index\n",
    "        indices_to_remove.update(outliers_indices)\n",
    "\n",
    "    df_cleaned = df.drop(indices_to_remove)\n",
    "\n",
    "    return df_cleaned\n",
    "df = remove_outliers(df, ['Price_euros', \"Inches\", 'Ram'])"
   ],
   "metadata": {
    "id": "fQrjT-NFQ46E",
    "ExecuteTime": {
     "end_time": "2024-02-19T21:36:31.076728200Z",
     "start_time": "2024-02-19T21:36:30.902355500Z"
    }
   },
   "execution_count": 64,
   "outputs": []
  },
  {
   "cell_type": "markdown",
   "source": [
    "**Splitting data**"
   ],
   "metadata": {
    "id": "A5OkiEX7SUrZ"
   }
  },
  {
   "cell_type": "code",
   "source": [
    "from sklearn.model_selection import train_test_split\n",
    "\n",
    "X = df.drop('Price_euros', axis=1)\n",
    "y = df['Price_euros']\n",
    "X_train, X_test, y_train, y_test = train_test_split(X, y, test_size = 0.2)"
   ],
   "metadata": {
    "colab": {
     "base_uri": "https://localhost:8080/",
     "height": 153
    },
    "id": "2ShvGDCIPKg5",
    "outputId": "99aa7baa-bf35-470b-ca33-3960b53b2e69",
    "ExecuteTime": {
     "end_time": "2024-02-19T21:36:31.077723800Z",
     "start_time": "2024-02-19T21:36:30.923580700Z"
    }
   },
   "execution_count": 65,
   "outputs": []
  },
  {
   "cell_type": "markdown",
   "source": [
    "**One Hot Encoding**"
   ],
   "metadata": {
    "collapsed": false
   }
  },
  {
   "cell_type": "code",
   "source": [
    "from sklearn.preprocessing import OneHotEncoder\n",
    "encoder = OneHotEncoder()\n",
    "columns_to_encode=['Company','TypeName', 'OpSys', 'Memory_Type', 'Gpu_Brand', \"Processor\"]\n",
    "encoder.fit(X_train[columns_to_encode])\n",
    "\n",
    "X_train_encoded = encoder.transform(X_train[columns_to_encode])\n",
    "X_test_encoded = encoder.transform(X_test[columns_to_encode])\n",
    "\n",
    "X_train_encoded_df = pd.DataFrame(X_train_encoded.toarray(), columns=encoder.get_feature_names_out(columns_to_encode), index=X_train.index)\n",
    "X_test_encoded_df = pd.DataFrame(X_test_encoded.toarray(), columns=encoder.get_feature_names_out(columns_to_encode), index=X_test.index)\n",
    "\n",
    "X_train_dropped = X_train.drop(columns=columns_to_encode)\n",
    "X_test_dropped = X_test.drop(columns=columns_to_encode)\n",
    "\n",
    "X_train_final = pd.concat([X_train_dropped, X_train_encoded_df], axis=1)\n",
    "X_test_final = pd.concat([X_test_dropped, X_test_encoded_df], axis=1)"
   ],
   "metadata": {
    "colab": {
     "base_uri": "https://localhost:8080/",
     "height": 359
    },
    "id": "5QLHHFFtJsIl",
    "outputId": "2d911e70-8f2c-474e-c5cd-250fc5156fdc",
    "ExecuteTime": {
     "end_time": "2024-02-19T21:36:31.077723800Z",
     "start_time": "2024-02-19T21:36:30.935626600Z"
    }
   },
   "execution_count": 66,
   "outputs": []
  },
  {
   "cell_type": "code",
   "execution_count": 67,
   "outputs": [
    {
     "data": {
      "text/plain": "Inches                          float64\nRam                               int64\nWeight                          float64\nMemory_size_GB                  float64\nClock                           float64\nScreen_Width                      int32\nCompany_Acer                    float64\nCompany_Apple                   float64\nCompany_Asus                    float64\nCompany_Dell                    float64\nCompany_HP                      float64\nCompany_Lenovo                  float64\nCompany_MSI                     float64\nCompany_Others                  float64\nCompany_Toshiba                 float64\nTypeName_2 in 1 Convertible     float64\nTypeName_Gaming                 float64\nTypeName_Netbook                float64\nTypeName_Notebook               float64\nTypeName_Ultrabook              float64\nTypeName_Workstation            float64\nOpSys_Linux                     float64\nOpSys_No OS                     float64\nOpSys_OtherSys                  float64\nOpSys_Windows 10                float64\nOpSys_Windows 7                 float64\nOpSys_macOS                     float64\nMemory_Type_Flash Storage       float64\nMemory_Type_HDD                 float64\nMemory_Type_SSD                 float64\nMemory_Type_nan                 float64\nGpu_Brand_AMD                   float64\nGpu_Brand_ARM                   float64\nGpu_Brand_Intel                 float64\nGpu_Brand_Nvidia                float64\nProcessor_AMD A6-Series         float64\nProcessor_AMD A9-Series         float64\nProcessor_Intel Celeron Dual    float64\nProcessor_Intel Core M          float64\nProcessor_Intel Core i3         float64\nProcessor_Intel Core i5         float64\nProcessor_Intel Core i7         float64\nProcessor_Intel Pentium Quad    float64\nProcessor_Others                float64\ndtype: object"
     },
     "execution_count": 67,
     "metadata": {},
     "output_type": "execute_result"
    }
   ],
   "source": [
    "X_train_final.dtypes"
   ],
   "metadata": {
    "collapsed": false,
    "ExecuteTime": {
     "end_time": "2024-02-19T21:36:31.102388Z",
     "start_time": "2024-02-19T21:36:30.948565200Z"
    }
   }
  },
  {
   "cell_type": "markdown",
   "source": [
    "**Normalization**"
   ],
   "metadata": {
    "id": "Uwzb16dNTPJ7"
   }
  },
  {
   "cell_type": "markdown",
   "source": [],
   "metadata": {
    "id": "xHU5IlyyTO1S"
   }
  },
  {
   "cell_type": "code",
   "source": [
    "mean_values = X_train_final.mean()\n",
    "std_values = X_train_final.std()\n",
    "\n",
    "print(\"Średnie wartości dla każdej kolumny:\\n\", mean_values)\n",
    "print(\"\\nOdchylenia standardowe dla każdej kolumny:\\n\", std_values)"
   ],
   "metadata": {
    "colab": {
     "base_uri": "https://localhost:8080/"
    },
    "id": "kTElV-bQOmoE",
    "outputId": "580d10b8-56b8-4a8e-bbfd-5fd06178a92d",
    "ExecuteTime": {
     "end_time": "2024-02-19T21:36:31.103388500Z",
     "start_time": "2024-02-19T21:36:30.960289800Z"
    }
   },
   "execution_count": 68,
   "outputs": [
    {
     "name": "stdout",
     "output_type": "stream",
     "text": [
      "Średnie wartości dla każdej kolumny:\n",
      " Inches                            15.001724\n",
      "Ram                                6.674877\n",
      "Weight                             1.960293\n",
      "Memory_size_GB                   451.256158\n",
      "Clock                              2.283374\n",
      "Screen_Width                    1837.995074\n",
      "Company_Acer                       0.092365\n",
      "Company_Apple                      0.014778\n",
      "Company_Asus                       0.107143\n",
      "Company_Dell                       0.229064\n",
      "Company_HP                         0.240148\n",
      "Company_Lenovo                     0.230296\n",
      "Company_MSI                        0.019704\n",
      "Company_Others                     0.032020\n",
      "Company_Toshiba                    0.034483\n",
      "TypeName_2 in 1 Convertible        0.083744\n",
      "TypeName_Gaming                    0.086207\n",
      "TypeName_Netbook                   0.006158\n",
      "TypeName_Notebook                  0.655172\n",
      "TypeName_Ultrabook                 0.147783\n",
      "TypeName_Workstation               0.020936\n",
      "OpSys_Linux                        0.052956\n",
      "OpSys_No OS                        0.059113\n",
      "OpSys_OtherSys                     0.014778\n",
      "OpSys_Windows 10                   0.818966\n",
      "OpSys_Windows 7                    0.039409\n",
      "OpSys_macOS                        0.014778\n",
      "Memory_Type_Flash Storage          0.044335\n",
      "Memory_Type_HDD                    0.336207\n",
      "Memory_Type_SSD                    0.612069\n",
      "Memory_Type_nan                    0.007389\n",
      "Gpu_Brand_AMD                      0.152709\n",
      "Gpu_Brand_ARM                      0.001232\n",
      "Gpu_Brand_Intel                    0.604680\n",
      "Gpu_Brand_Nvidia                   0.241379\n",
      "Processor_AMD A6-Series            0.009852\n",
      "Processor_AMD A9-Series            0.014778\n",
      "Processor_Intel Celeron Dual       0.039409\n",
      "Processor_Intel Core M             0.013547\n",
      "Processor_Intel Core i3            0.140394\n",
      "Processor_Intel Core i5            0.396552\n",
      "Processor_Intel Core i7            0.315271\n",
      "Processor_Intel Pentium Quad       0.022167\n",
      "Processor_Others                   0.048030\n",
      "dtype: float64\n",
      "\n",
      "Odchylenia standardowe dla każdej kolumny:\n",
      " Inches                            1.241681\n",
      "Ram                               2.078060\n",
      "Weight                            0.488994\n",
      "Memory_size_GB                  380.515917\n",
      "Clock                             0.479742\n",
      "Screen_Width                    401.726570\n",
      "Company_Acer                      0.289718\n",
      "Company_Apple                     0.120739\n",
      "Company_Asus                      0.309485\n",
      "Company_Dell                      0.420490\n",
      "Company_HP                        0.427436\n",
      "Company_Lenovo                    0.421281\n",
      "Company_MSI                       0.139068\n",
      "Company_Others                    0.176161\n",
      "Company_Toshiba                   0.182578\n",
      "TypeName_2 in 1 Convertible       0.277174\n",
      "TypeName_Gaming                   0.280842\n",
      "TypeName_Netbook                  0.078277\n",
      "TypeName_Notebook                 0.475605\n",
      "TypeName_Ultrabook                0.355104\n",
      "TypeName_Workstation              0.143258\n",
      "OpSys_Linux                       0.224083\n",
      "OpSys_No OS                       0.235982\n",
      "OpSys_OtherSys                    0.120739\n",
      "OpSys_Windows 10                  0.385284\n",
      "OpSys_Windows 7                   0.194686\n",
      "OpSys_macOS                       0.120739\n",
      "Memory_Type_Flash Storage         0.205965\n",
      "Memory_Type_HDD                   0.472702\n",
      "Memory_Type_SSD                   0.487579\n",
      "Memory_Type_nan                   0.085695\n",
      "Gpu_Brand_AMD                     0.359929\n",
      "Gpu_Brand_ARM                     0.035093\n",
      "Gpu_Brand_Intel                   0.489221\n",
      "Gpu_Brand_Nvidia                  0.428184\n",
      "Processor_AMD A6-Series           0.098829\n",
      "Processor_AMD A9-Series           0.120739\n",
      "Processor_Intel Celeron Dual      0.194686\n",
      "Processor_Intel Core M            0.115671\n",
      "Processor_Intel Core i3           0.347610\n",
      "Processor_Intel Core i5           0.489483\n",
      "Processor_Intel Core i7           0.464910\n",
      "Processor_Intel Pentium Quad      0.147319\n",
      "Processor_Others                  0.213961\n",
      "dtype: float64\n"
     ]
    }
   ]
  },
  {
   "cell_type": "code",
   "source": [
    "from sklearn.preprocessing import StandardScaler\n",
    "scaler = StandardScaler()\n",
    "scaler.fit(X_train_final)\n",
    "X_train_scaled = scaler.transform(X_train_final)\n",
    "X_test_scaled = scaler.transform(X_test_final)\n",
    "\n",
    "X_train_scaled_df = pd.DataFrame(X_train_scaled, columns=X_train_final.columns, index=X_train_final.index)\n",
    "X_test_scaled_df = pd.DataFrame(X_test_scaled, columns=X_test_final.columns, index=X_test_final.index)\n"
   ],
   "metadata": {
    "colab": {
     "base_uri": "https://localhost:8080/"
    },
    "id": "Rb_BFbakTdwH",
    "outputId": "7387e3bf-d1e1-4432-ff49-fd56b67c82f2",
    "ExecuteTime": {
     "end_time": "2024-02-19T21:36:31.140801Z",
     "start_time": "2024-02-19T21:36:30.974878900Z"
    }
   },
   "execution_count": 69,
   "outputs": []
  },
  {
   "cell_type": "markdown",
   "source": [
    "**Regression**"
   ],
   "metadata": {
    "id": "XMyQ3gBPVw3N"
   }
  },
  {
   "cell_type": "code",
   "execution_count": 70,
   "outputs": [
    {
     "name": "stdout",
     "output_type": "stream",
     "text": [
      "Coefficients: [ 2.53551692e+01  6.91430247e+01 -7.23464264e+01  1.45730037e+01\n",
      "  6.17681853e+01  8.04369991e+01  4.15102585e+14  8.51346479e+14\n",
      "  4.43424507e+14  6.02468993e+14  6.12422234e+14  6.03603673e+14\n",
      "  1.99254247e+14  2.52399801e+14  2.61594199e+14 -7.35699261e+13\n",
      " -7.45436010e+13 -2.07769199e+13 -1.26239198e+14 -9.42547110e+13\n",
      " -3.80248422e+13  1.75656671e+15  1.84984163e+15  9.46461315e+14\n",
      "  3.02020722e+15  1.52612301e+15  2.68107098e+14  9.64756183e+14\n",
      "  2.21417104e+15  2.28385712e+15  4.01401144e+14  1.44360856e+15\n",
      "  1.40752078e+14  1.96217460e+15  1.71736568e+15  1.22305144e+15\n",
      "  1.49419515e+15  2.40931728e+15  1.43147677e+15  4.30181611e+15\n",
      "  6.05755939e+15  5.75345981e+15  1.82313240e+15  2.64785230e+15]\n"
     ]
    }
   ],
   "source": [
    "from sklearn.linear_model import LinearRegression\n",
    "linear_model = LinearRegression()\n",
    "linear_model.fit(X_train_scaled_df, y_train)\n",
    "y_pred_linear = linear_model.predict(X_test_scaled_df)\n",
    "print(f'Coefficients: {linear_model.coef_}')"
   ],
   "metadata": {
    "collapsed": false,
    "ExecuteTime": {
     "end_time": "2024-02-19T21:36:31.141832200Z",
     "start_time": "2024-02-19T21:36:30.997078700Z"
    }
   }
  },
  {
   "cell_type": "code",
   "execution_count": 71,
   "outputs": [
    {
     "name": "stdout",
     "output_type": "stream",
     "text": [
      "Coefficients: [  11.04393841   64.88565274  -62.6023335    11.42376996   58.36437738\n",
      "   80.26505848  -34.49285878    5.97631056  -27.69200985   -0.\n",
      "   10.48684129    9.12558213    0.          -13.18110783   18.74475616\n",
      "    0.19120967  -22.26748764   19.23763918 -117.39528229    0.\n",
      "   69.0785065   -22.55947256  -55.13410859   -0.69380485    0.\n",
      "   47.79828486    1.56996263   -4.42506118   -0.           67.97430106\n",
      "   -6.15864847  -28.41078584   -4.21080377   -0.            3.34221934\n",
      "  -23.35823486  -26.47348229  -20.48716014   13.50576415  -27.66960515\n",
      "   43.35170476   81.80485506   -0.          -33.27969906]\n"
     ]
    }
   ],
   "source": [
    "from sklearn.linear_model import Lasso\n",
    "lasso_model = Lasso(alpha=1.0)\n",
    "lasso_model.fit(X_train_scaled_df, y_train)\n",
    "y_pred_lasso = lasso_model.predict(X_test_scaled_df)\n",
    "print(f'Coefficients: {lasso_model.coef_}')\n"
   ],
   "metadata": {
    "collapsed": false,
    "ExecuteTime": {
     "end_time": "2024-02-19T21:36:31.197455400Z",
     "start_time": "2024-02-19T21:36:31.003762500Z"
    }
   }
  },
  {
   "cell_type": "code",
   "execution_count": 72,
   "outputs": [
    {
     "name": "stdout",
     "output_type": "stream",
     "text": [
      "Coefficients: [ 21.75121031  63.13446897 -71.66662684  14.3134738   59.36587561\n",
      "  80.19820485 -31.57454365   6.58929007 -25.66379001   3.89638158\n",
      "  14.96204929  14.9426575    1.09240731 -12.11181348  21.62165964\n",
      "  27.6751212    3.48343924  28.16371581 -73.2567249   34.10455652\n",
      "  82.90567222 -16.95768717 -50.61885585   2.45236953  10.61577321\n",
      "  54.25824721   6.58929007 -16.96525375 -30.48542237  38.83817329\n",
      " -12.04173429 -23.24262259  -4.24040602   7.29622662  11.548865\n",
      " -29.35689272 -33.60932555 -29.92908238   9.23328713 -45.23560264\n",
      "  20.7200658   59.79505005  -7.49409999 -43.91036663]\n"
     ]
    }
   ],
   "source": [
    "from sklearn.linear_model import Ridge\n",
    "ridge_model = Ridge(alpha=1.0)\n",
    "ridge_model.fit(X_train_scaled_df, y_train)\n",
    "y_pred_ridge = ridge_model.predict(X_test_scaled_df)\n",
    "print(f'Coefficients: {ridge_model.coef_}')\n"
   ],
   "metadata": {
    "collapsed": false,
    "ExecuteTime": {
     "end_time": "2024-02-19T21:36:31.239816200Z",
     "start_time": "2024-02-19T21:36:31.023847600Z"
    }
   }
  },
  {
   "cell_type": "markdown",
   "source": [
    "from sklearn.preprocessing import PolynomialFeatures\n",
    "\n",
    "poly_features = PolynomialFeatures(degree=5)\n",
    "X_train_poly = poly_features.fit_transform(X_train_scaled_df)\n",
    "X_test_poly = poly_features.transform(X_test_scaled_df)\n",
    "poly_model = LinearRegression()\n",
    "poly_model.fit(X_train_poly, y_train)\n",
    "y_pred_poly = poly_model.predict(X_test_poly)\n",
    "print(f'Coefficients: {poly_model.coef_}')\n",
    "\n"
   ],
   "metadata": {
    "collapsed": false
   }
  },
  {
   "cell_type": "code",
   "execution_count": null,
   "outputs": [],
   "source": [
    "from sklearn.tree import DecisionTreeRegressor\n",
    "tree_model = DecisionTreeRegressor(max_depth=3, min_samples_split=6)\n",
    "tree_model.fit(X_train_scaled_df, y_train)\n",
    "y_pred_tree = tree_model.predict(X_test_scaled_df)\n"
   ],
   "metadata": {
    "collapsed": false
   }
  },
  {
   "cell_type": "code",
   "execution_count": null,
   "outputs": [],
   "source": [
    "from sklearn.tree import plot_tree\n",
    "import matplotlib.pyplot as plt\n",
    "\n",
    "plt.figure(figsize=(20,10))\n",
    "plot_tree(tree_model, filled=True, feature_names=X_test_scaled_df.columns, max_depth=3, fontsize=10)\n",
    "plt.show()\n"
   ],
   "metadata": {
    "collapsed": false
   }
  },
  {
   "cell_type": "markdown",
   "source": [
    "**Evaluation**"
   ],
   "metadata": {
    "collapsed": false
   }
  },
  {
   "cell_type": "code",
   "execution_count": null,
   "outputs": [],
   "source": [
    "from sklearn.metrics import r2_score, mean_squared_error\n",
    "model_names = ['Linear', 'Lasso', 'Ridge', 'Polynomial', 'Decision Tree']\n",
    "predictions = [y_pred_linear, y_pred_lasso, y_pred_ridge, y_pred_poly, y_pred_tree]\n",
    "results = []\n",
    "\n",
    "for model_name, pred in zip(model_names, predictions):\n",
    "    mse = mean_squared_error(y_test, pred)\n",
    "    r2 = r2_score(y_test, pred)\n",
    "    results.append({\"Model\": model_name, \"MSE\": mse, \"R2\": r2})\n",
    "\n",
    "results_df = pd.DataFrame(results)"
   ],
   "metadata": {
    "collapsed": false
   }
  },
  {
   "cell_type": "code",
   "execution_count": null,
   "outputs": [],
   "source": [
    "results_df"
   ],
   "metadata": {
    "collapsed": false
   }
  },
  {
   "cell_type": "markdown",
   "source": [
    "\n",
    "In our analysis, the Ridge, Lasso, and Linear Regression models demonstrated the best performance and achieved comparable results. Among these, the Ridge Regression model emerged as the top performer, indicating its effectiveness in handling the dataset and predicting laptop prices with a high level of accuracy. On the other hand, the Polynomial Regression model did not perform as well, showing significantly lower effectiveness in this particular case. This outcome suggests that while Polynomial Regression can be powerful for capturing non-linear relationships, it may not always be the most suitable choice, especially if the data does not exhibit strong non-linear patterns or if the model becomes too complex and overfits the data."
   ],
   "metadata": {
    "collapsed": false
   }
  },
  {
   "cell_type": "code",
   "execution_count": null,
   "outputs": [],
   "source": [
    "import matplotlib.pyplot as plt\n",
    "residuals = y_test - y_pred_poly\n",
    "plt.scatter(y_pred_poly, residuals)\n",
    "plt.axhline(y=0, color='r', linestyle='--')\n",
    "plt.xlabel('Przewidywane wartości')\n",
    "plt.ylabel('Reszty')\n",
    "plt.title('Wykres reszt')\n",
    "plt.show()"
   ],
   "metadata": {
    "collapsed": false
   }
  },
  {
   "cell_type": "code",
   "execution_count": null,
   "outputs": [],
   "source": [],
   "metadata": {
    "collapsed": false
   }
  }
 ]
}
